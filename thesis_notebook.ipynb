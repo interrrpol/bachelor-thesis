{
  "nbformat": 4,
  "nbformat_minor": 0,
  "metadata": {
    "colab": {
      "provenance": [],
      "gpuType": "T4"
    },
    "kernelspec": {
      "name": "python3",
      "display_name": "Python 3"
    },
    "language_info": {
      "name": "python"
    },
    "accelerator": "GPU"
  },
  "cells": [
    {
      "cell_type": "markdown",
      "source": [
        "Incercare 3: reformatarea textului din tabel"
      ],
      "metadata": {
        "id": "myNTe8ap9Oac"
      }
    },
    {
      "cell_type": "code",
      "source": [
        "!pip install farm-haystack[all]"
      ],
      "metadata": {
        "colab": {
          "base_uri": "https://localhost:8080/"
        },
        "collapsed": true,
        "id": "A72OLEJEIOzq",
        "outputId": "e0ebe603-56bf-48ca-cd56-5e5418257698"
      },
      "execution_count": null,
      "outputs": [
        {
          "output_type": "stream",
          "name": "stdout",
          "text": [
            "Requirement already satisfied: farm-haystack[all] in /usr/local/lib/python3.10/dist-packages (1.26.2)\n",
            "Requirement already satisfied: boilerpy3 in /usr/local/lib/python3.10/dist-packages (from farm-haystack[all]) (1.0.7)\n",
            "Requirement already satisfied: events in /usr/local/lib/python3.10/dist-packages (from farm-haystack[all]) (0.5)\n",
            "Requirement already satisfied: httpx in /usr/local/lib/python3.10/dist-packages (from farm-haystack[all]) (0.27.0)\n",
            "Requirement already satisfied: jsonschema in /usr/local/lib/python3.10/dist-packages (from farm-haystack[all]) (4.19.2)\n",
            "Requirement already satisfied: lazy-imports==0.3.1 in /usr/local/lib/python3.10/dist-packages (from farm-haystack[all]) (0.3.1)\n",
            "Requirement already satisfied: more-itertools in /usr/local/lib/python3.10/dist-packages (from farm-haystack[all]) (10.1.0)\n",
            "Requirement already satisfied: networkx in /usr/local/lib/python3.10/dist-packages (from farm-haystack[all]) (3.3)\n",
            "Requirement already satisfied: pandas in /usr/local/lib/python3.10/dist-packages (from farm-haystack[all]) (2.0.3)\n",
            "Requirement already satisfied: pillow in /usr/local/lib/python3.10/dist-packages (from farm-haystack[all]) (9.4.0)\n",
            "Requirement already satisfied: platformdirs in /usr/local/lib/python3.10/dist-packages (from farm-haystack[all]) (4.2.2)\n",
            "Requirement already satisfied: posthog in /usr/local/lib/python3.10/dist-packages (from farm-haystack[all]) (3.5.0)\n",
            "Requirement already satisfied: prompthub-py==4.0.0 in /usr/local/lib/python3.10/dist-packages (from farm-haystack[all]) (4.0.0)\n",
            "Requirement already satisfied: pydantic<2 in /usr/local/lib/python3.10/dist-packages (from farm-haystack[all]) (1.10.17)\n",
            "Requirement already satisfied: quantulum3 in /usr/local/lib/python3.10/dist-packages (from farm-haystack[all]) (0.9.2)\n",
            "Requirement already satisfied: rank-bm25 in /usr/local/lib/python3.10/dist-packages (from farm-haystack[all]) (0.2.2)\n",
            "Requirement already satisfied: requests in /usr/local/lib/python3.10/dist-packages (from farm-haystack[all]) (2.31.0)\n",
            "Requirement already satisfied: requests-cache<1.0.0 in /usr/local/lib/python3.10/dist-packages (from farm-haystack[all]) (0.9.8)\n",
            "Requirement already satisfied: scikit-learn>=1.3.0 in /usr/local/lib/python3.10/dist-packages (from farm-haystack[all]) (1.5.1)\n",
            "Requirement already satisfied: sseclient-py in /usr/local/lib/python3.10/dist-packages (from farm-haystack[all]) (1.8.0)\n",
            "Requirement already satisfied: tenacity in /usr/local/lib/python3.10/dist-packages (from farm-haystack[all]) (8.4.2)\n",
            "Requirement already satisfied: tiktoken>=0.5.1 in /usr/local/lib/python3.10/dist-packages (from farm-haystack[all]) (0.7.0)\n",
            "Requirement already satisfied: tqdm in /usr/local/lib/python3.10/dist-packages (from farm-haystack[all]) (4.66.4)\n",
            "Requirement already satisfied: transformers==4.39.3 in /usr/local/lib/python3.10/dist-packages (from farm-haystack[all]) (4.39.3)\n",
            "Requirement already satisfied: azure-ai-formrecognizer>=3.2.0b2 in /usr/local/lib/python3.10/dist-packages (from farm-haystack[all]) (3.3.3)\n",
            "Requirement already satisfied: beautifulsoup4 in /usr/local/lib/python3.10/dist-packages (from farm-haystack[all]) (4.12.3)\n",
            "Requirement already satisfied: boto3>=1.28.57 in /usr/local/lib/python3.10/dist-packages (from farm-haystack[all]) (1.34.141)\n",
            "Requirement already satisfied: elastic-transport<8 in /usr/local/lib/python3.10/dist-packages (from farm-haystack[all]) (7.16.0)\n",
            "Requirement already satisfied: elasticsearch<8,>=7.17 in /usr/local/lib/python3.10/dist-packages (from farm-haystack[all]) (7.17.9)\n",
            "Requirement already satisfied: faiss-cpu<=1.7.2,>=1.6.3 in /usr/local/lib/python3.10/dist-packages (from farm-haystack[all]) (1.7.2)\n",
            "Requirement already satisfied: huggingface-hub>=0.5.0 in /usr/local/lib/python3.10/dist-packages (from farm-haystack[all]) (0.23.4)\n",
            "Requirement already satisfied: langdetect in /usr/local/lib/python3.10/dist-packages (from farm-haystack[all]) (1.0.9)\n",
            "Requirement already satisfied: markdown in /usr/local/lib/python3.10/dist-packages (from farm-haystack[all]) (3.6)\n",
            "Requirement already satisfied: mlflow in /usr/local/lib/python3.10/dist-packages (from farm-haystack[all]) (2.14.2)\n",
            "Requirement already satisfied: nltk in /usr/local/lib/python3.10/dist-packages (from farm-haystack[all]) (3.8.1)\n",
            "Requirement already satisfied: openai-whisper>=20231106 in /usr/local/lib/python3.10/dist-packages (from farm-haystack[all]) (20231117)\n",
            "Requirement already satisfied: opensearch-py>=2 in /usr/local/lib/python3.10/dist-packages (from farm-haystack[all]) (2.6.0)\n",
            "Requirement already satisfied: pdf2image>1.14 in /usr/local/lib/python3.10/dist-packages (from farm-haystack[all]) (1.17.0)\n",
            "Requirement already satisfied: pinecone-client<3,>=2.0.11 in /usr/local/lib/python3.10/dist-packages (from farm-haystack[all]) (2.2.4)\n",
            "Requirement already satisfied: psycopg2-binary in /usr/local/lib/python3.10/dist-packages (from farm-haystack[all]) (2.9.9)\n",
            "Requirement already satisfied: pymongo>=4.6 in /usr/local/lib/python3.10/dist-packages (from farm-haystack[all]) (4.8.0)\n",
            "Requirement already satisfied: pytesseract>0.3.7 in /usr/local/lib/python3.10/dist-packages (from farm-haystack[all]) (0.3.10)\n",
            "Requirement already satisfied: python-docx in /usr/local/lib/python3.10/dist-packages (from farm-haystack[all]) (1.1.2)\n",
            "Requirement already satisfied: python-frontmatter in /usr/local/lib/python3.10/dist-packages (from farm-haystack[all]) (1.1.0)\n",
            "Requirement already satisfied: python-magic in /usr/local/lib/python3.10/dist-packages (from farm-haystack[all]) (0.4.27)\n",
            "Requirement already satisfied: python-pptx in /usr/local/lib/python3.10/dist-packages (from farm-haystack[all]) (0.6.23)\n",
            "Requirement already satisfied: rapidfuzz<2.8.0,>=2.0.15 in /usr/local/lib/python3.10/dist-packages (from farm-haystack[all]) (2.7.0)\n",
            "Requirement already satisfied: scipy>=1.3.2 in /usr/local/lib/python3.10/dist-packages (from farm-haystack[all]) (1.11.4)\n",
            "Requirement already satisfied: selenium>=4.11.0 in /usr/local/lib/python3.10/dist-packages (from farm-haystack[all]) (4.22.0)\n",
            "Requirement already satisfied: sentence-transformers>=2.2.0 in /usr/local/lib/python3.10/dist-packages (from farm-haystack[all]) (3.0.1)\n",
            "Requirement already satisfied: seqeval in /usr/local/lib/python3.10/dist-packages (from farm-haystack[all]) (1.2.2)\n",
            "Requirement already satisfied: sqlalchemy-utils in /usr/local/lib/python3.10/dist-packages (from farm-haystack[all]) (0.41.2)\n",
            "Requirement already satisfied: sqlalchemy<2,>=1.4.2 in /usr/local/lib/python3.10/dist-packages (from farm-haystack[all]) (1.4.52)\n",
            "Requirement already satisfied: tika in /usr/local/lib/python3.10/dist-packages (from farm-haystack[all]) (2.6.0)\n",
            "Requirement already satisfied: weaviate-client>2 in /usr/local/lib/python3.10/dist-packages (from farm-haystack[all]) (3.26.5)\n",
            "Requirement already satisfied: pyyaml<7.0,>=6.0 in /usr/local/lib/python3.10/dist-packages (from prompthub-py==4.0.0->farm-haystack[all]) (6.0.1)\n",
            "Requirement already satisfied: filelock in /usr/local/lib/python3.10/dist-packages (from transformers==4.39.3->farm-haystack[all]) (3.15.4)\n",
            "Requirement already satisfied: numpy>=1.17 in /usr/local/lib/python3.10/dist-packages (from transformers==4.39.3->farm-haystack[all]) (1.25.2)\n",
            "Requirement already satisfied: packaging>=20.0 in /usr/local/lib/python3.10/dist-packages (from transformers==4.39.3->farm-haystack[all]) (24.1)\n",
            "Requirement already satisfied: regex!=2019.12.17 in /usr/local/lib/python3.10/dist-packages (from transformers==4.39.3->farm-haystack[all]) (2024.5.15)\n",
            "Requirement already satisfied: tokenizers<0.19,>=0.14 in /usr/local/lib/python3.10/dist-packages (from transformers==4.39.3->farm-haystack[all]) (0.15.2)\n",
            "Requirement already satisfied: safetensors>=0.4.1 in /usr/local/lib/python3.10/dist-packages (from transformers==4.39.3->farm-haystack[all]) (0.4.3)\n",
            "Requirement already satisfied: torch in /usr/local/lib/python3.10/dist-packages (from transformers[sentencepiece,torch]==4.39.3; extra == \"all\"->farm-haystack[all]) (2.3.0+cu121)\n",
            "Requirement already satisfied: accelerate>=0.21.0 in /usr/local/lib/python3.10/dist-packages (from transformers[sentencepiece,torch]==4.39.3; extra == \"all\"->farm-haystack[all]) (0.32.1)\n",
            "Requirement already satisfied: sentencepiece!=0.1.92,>=0.1.91 in /usr/local/lib/python3.10/dist-packages (from transformers[sentencepiece,torch]==4.39.3; extra == \"all\"->farm-haystack[all]) (0.1.99)\n",
            "Requirement already satisfied: protobuf in /usr/local/lib/python3.10/dist-packages (from transformers[sentencepiece,torch]==4.39.3; extra == \"all\"->farm-haystack[all]) (3.20.3)\n",
            "Requirement already satisfied: azure-core>=1.23.0 in /usr/local/lib/python3.10/dist-packages (from azure-ai-formrecognizer>=3.2.0b2->farm-haystack[all]) (1.30.2)\n",
            "Requirement already satisfied: msrest>=0.6.21 in /usr/local/lib/python3.10/dist-packages (from azure-ai-formrecognizer>=3.2.0b2->farm-haystack[all]) (0.7.1)\n",
            "Requirement already satisfied: azure-common>=1.1 in /usr/local/lib/python3.10/dist-packages (from azure-ai-formrecognizer>=3.2.0b2->farm-haystack[all]) (1.1.28)\n",
            "Requirement already satisfied: typing-extensions>=4.0.1 in /usr/local/lib/python3.10/dist-packages (from azure-ai-formrecognizer>=3.2.0b2->farm-haystack[all]) (4.12.2)\n",
            "Requirement already satisfied: botocore<1.35.0,>=1.34.141 in /usr/local/lib/python3.10/dist-packages (from boto3>=1.28.57->farm-haystack[all]) (1.34.141)\n",
            "Requirement already satisfied: jmespath<2.0.0,>=0.7.1 in /usr/local/lib/python3.10/dist-packages (from boto3>=1.28.57->farm-haystack[all]) (1.0.1)\n",
            "Requirement already satisfied: s3transfer<0.11.0,>=0.10.0 in /usr/local/lib/python3.10/dist-packages (from boto3>=1.28.57->farm-haystack[all]) (0.10.2)\n",
            "Requirement already satisfied: urllib3<2,>=1.21.1 in /usr/local/lib/python3.10/dist-packages (from elastic-transport<8->farm-haystack[all]) (1.26.19)\n",
            "Requirement already satisfied: six>=1.12 in /usr/local/lib/python3.10/dist-packages (from elastic-transport<8->farm-haystack[all]) (1.16.0)\n",
            "Requirement already satisfied: certifi in /usr/local/lib/python3.10/dist-packages (from elastic-transport<8->farm-haystack[all]) (2024.6.2)\n",
            "Requirement already satisfied: fsspec>=2023.5.0 in /usr/local/lib/python3.10/dist-packages (from huggingface-hub>=0.5.0->farm-haystack[all]) (2023.6.0)\n",
            "Requirement already satisfied: triton<3,>=2.0.0 in /usr/local/lib/python3.10/dist-packages (from openai-whisper>=20231106->farm-haystack[all]) (2.3.0)\n",
            "Requirement already satisfied: numba in /usr/local/lib/python3.10/dist-packages (from openai-whisper>=20231106->farm-haystack[all]) (0.58.1)\n",
            "Requirement already satisfied: python-dateutil in /usr/local/lib/python3.10/dist-packages (from opensearch-py>=2->farm-haystack[all]) (2.8.2)\n",
            "Requirement already satisfied: loguru>=0.5.0 in /usr/local/lib/python3.10/dist-packages (from pinecone-client<3,>=2.0.11->farm-haystack[all]) (0.7.2)\n",
            "Requirement already satisfied: dnspython>=2.0.0 in /usr/local/lib/python3.10/dist-packages (from pinecone-client<3,>=2.0.11->farm-haystack[all]) (2.6.1)\n",
            "Requirement already satisfied: jarowinkler<2.0.0,>=1.2.0 in /usr/local/lib/python3.10/dist-packages (from rapidfuzz<2.8.0,>=2.0.15->farm-haystack[all]) (1.2.3)\n",
            "Requirement already satisfied: charset-normalizer<4,>=2 in /usr/local/lib/python3.10/dist-packages (from requests->farm-haystack[all]) (3.3.2)\n",
            "Requirement already satisfied: idna<4,>=2.5 in /usr/local/lib/python3.10/dist-packages (from requests->farm-haystack[all]) (3.7)\n",
            "Requirement already satisfied: appdirs>=1.4.4 in /usr/local/lib/python3.10/dist-packages (from requests-cache<1.0.0->farm-haystack[all]) (1.4.4)\n",
            "Requirement already satisfied: attrs>=21.2 in /usr/local/lib/python3.10/dist-packages (from requests-cache<1.0.0->farm-haystack[all]) (23.2.0)\n",
            "Requirement already satisfied: cattrs>=22.2 in /usr/local/lib/python3.10/dist-packages (from requests-cache<1.0.0->farm-haystack[all]) (23.2.3)\n",
            "Requirement already satisfied: url-normalize>=1.4 in /usr/local/lib/python3.10/dist-packages (from requests-cache<1.0.0->farm-haystack[all]) (1.4.3)\n",
            "Requirement already satisfied: joblib>=1.2.0 in /usr/local/lib/python3.10/dist-packages (from scikit-learn>=1.3.0->farm-haystack[all]) (1.4.2)\n",
            "Requirement already satisfied: threadpoolctl>=3.1.0 in /usr/local/lib/python3.10/dist-packages (from scikit-learn>=1.3.0->farm-haystack[all]) (3.5.0)\n",
            "Requirement already satisfied: trio~=0.17 in /usr/local/lib/python3.10/dist-packages (from selenium>=4.11.0->farm-haystack[all]) (0.26.0)\n",
            "Requirement already satisfied: trio-websocket~=0.9 in /usr/local/lib/python3.10/dist-packages (from selenium>=4.11.0->farm-haystack[all]) (0.11.1)\n",
            "Requirement already satisfied: websocket-client>=1.8.0 in /usr/local/lib/python3.10/dist-packages (from selenium>=4.11.0->farm-haystack[all]) (1.8.0)\n",
            "Requirement already satisfied: greenlet!=0.4.17 in /usr/local/lib/python3.10/dist-packages (from sqlalchemy<2,>=1.4.2->farm-haystack[all]) (3.0.3)\n",
            "Requirement already satisfied: validators<1.0.0,>=0.21.2 in /usr/local/lib/python3.10/dist-packages (from weaviate-client>2->farm-haystack[all]) (0.31.0)\n",
            "Requirement already satisfied: authlib<2.0.0,>=1.2.1 in /usr/local/lib/python3.10/dist-packages (from weaviate-client>2->farm-haystack[all]) (1.3.1)\n",
            "Requirement already satisfied: soupsieve>1.2 in /usr/local/lib/python3.10/dist-packages (from beautifulsoup4->farm-haystack[all]) (2.5)\n",
            "Requirement already satisfied: anyio in /usr/local/lib/python3.10/dist-packages (from httpx->farm-haystack[all]) (3.7.1)\n",
            "Requirement already satisfied: httpcore==1.* in /usr/local/lib/python3.10/dist-packages (from httpx->farm-haystack[all]) (1.0.5)\n",
            "Requirement already satisfied: sniffio in /usr/local/lib/python3.10/dist-packages (from httpx->farm-haystack[all]) (1.3.1)\n",
            "Requirement already satisfied: h11<0.15,>=0.13 in /usr/local/lib/python3.10/dist-packages (from httpcore==1.*->httpx->farm-haystack[all]) (0.14.0)\n",
            "Requirement already satisfied: jsonschema-specifications>=2023.03.6 in /usr/local/lib/python3.10/dist-packages (from jsonschema->farm-haystack[all]) (2023.12.1)\n",
            "Requirement already satisfied: referencing>=0.28.4 in /usr/local/lib/python3.10/dist-packages (from jsonschema->farm-haystack[all]) (0.35.1)\n",
            "Requirement already satisfied: rpds-py>=0.7.1 in /usr/local/lib/python3.10/dist-packages (from jsonschema->farm-haystack[all]) (0.18.1)\n",
            "Requirement already satisfied: Flask<4 in /usr/local/lib/python3.10/dist-packages (from mlflow->farm-haystack[all]) (2.2.5)\n",
            "Requirement already satisfied: alembic!=1.10.0,<2 in /usr/local/lib/python3.10/dist-packages (from mlflow->farm-haystack[all]) (1.13.2)\n",
            "Requirement already satisfied: cachetools<6,>=5.0.0 in /usr/local/lib/python3.10/dist-packages (from mlflow->farm-haystack[all]) (5.3.3)\n",
            "Requirement already satisfied: click<9,>=7.0 in /usr/local/lib/python3.10/dist-packages (from mlflow->farm-haystack[all]) (8.1.7)\n",
            "Requirement already satisfied: cloudpickle<4 in /usr/local/lib/python3.10/dist-packages (from mlflow->farm-haystack[all]) (2.2.1)\n",
            "Requirement already satisfied: docker<8,>=4.0.0 in /usr/local/lib/python3.10/dist-packages (from mlflow->farm-haystack[all]) (7.1.0)\n",
            "Requirement already satisfied: entrypoints<1 in /usr/local/lib/python3.10/dist-packages (from mlflow->farm-haystack[all]) (0.4)\n",
            "Requirement already satisfied: gitpython<4,>=3.1.9 in /usr/local/lib/python3.10/dist-packages (from mlflow->farm-haystack[all]) (3.1.43)\n",
            "Requirement already satisfied: graphene<4 in /usr/local/lib/python3.10/dist-packages (from mlflow->farm-haystack[all]) (3.3)\n",
            "Requirement already satisfied: importlib-metadata!=4.7.0,<8,>=3.7.0 in /usr/local/lib/python3.10/dist-packages (from mlflow->farm-haystack[all]) (7.1.0)\n",
            "Requirement already satisfied: matplotlib<4 in /usr/local/lib/python3.10/dist-packages (from mlflow->farm-haystack[all]) (3.7.1)\n",
            "Requirement already satisfied: opentelemetry-api<3,>=1.9.0 in /usr/local/lib/python3.10/dist-packages (from mlflow->farm-haystack[all]) (1.25.0)\n",
            "Requirement already satisfied: opentelemetry-sdk<3,>=1.9.0 in /usr/local/lib/python3.10/dist-packages (from mlflow->farm-haystack[all]) (1.25.0)\n",
            "Requirement already satisfied: pyarrow<16,>=4.0.0 in /usr/local/lib/python3.10/dist-packages (from mlflow->farm-haystack[all]) (14.0.2)\n",
            "Requirement already satisfied: pytz<2025 in /usr/local/lib/python3.10/dist-packages (from mlflow->farm-haystack[all]) (2023.4)\n",
            "Requirement already satisfied: querystring-parser<2 in /usr/local/lib/python3.10/dist-packages (from mlflow->farm-haystack[all]) (1.2.4)\n",
            "Requirement already satisfied: sqlparse<1,>=0.4.0 in /usr/local/lib/python3.10/dist-packages (from mlflow->farm-haystack[all]) (0.5.0)\n",
            "Requirement already satisfied: Jinja2<4,>=2.11 in /usr/local/lib/python3.10/dist-packages (from mlflow->farm-haystack[all]) (3.1.4)\n",
            "Requirement already satisfied: gunicorn<23 in /usr/local/lib/python3.10/dist-packages (from mlflow->farm-haystack[all]) (22.0.0)\n",
            "Requirement already satisfied: tzdata>=2022.1 in /usr/local/lib/python3.10/dist-packages (from pandas->farm-haystack[all]) (2024.1)\n",
            "Requirement already satisfied: monotonic>=1.5 in /usr/local/lib/python3.10/dist-packages (from posthog->farm-haystack[all]) (1.6)\n",
            "Requirement already satisfied: backoff>=1.10.0 in /usr/local/lib/python3.10/dist-packages (from posthog->farm-haystack[all]) (2.2.1)\n",
            "Requirement already satisfied: lxml>=3.1.0 in /usr/local/lib/python3.10/dist-packages (from python-docx->farm-haystack[all]) (4.9.4)\n",
            "Requirement already satisfied: XlsxWriter>=0.5.7 in /usr/local/lib/python3.10/dist-packages (from python-pptx->farm-haystack[all]) (3.2.0)\n",
            "Requirement already satisfied: inflect in /usr/local/lib/python3.10/dist-packages (from quantulum3->farm-haystack[all]) (7.0.0)\n",
            "Requirement already satisfied: num2words in /usr/local/lib/python3.10/dist-packages (from quantulum3->farm-haystack[all]) (0.5.13)\n",
            "Requirement already satisfied: setuptools in /usr/local/lib/python3.10/dist-packages (from tika->farm-haystack[all]) (67.7.2)\n",
            "Requirement already satisfied: psutil in /usr/local/lib/python3.10/dist-packages (from accelerate>=0.21.0->transformers[sentencepiece,torch]==4.39.3; extra == \"all\"->farm-haystack[all]) (5.9.5)\n",
            "Requirement already satisfied: Mako in /usr/local/lib/python3.10/dist-packages (from alembic!=1.10.0,<2->mlflow->farm-haystack[all]) (1.3.5)\n",
            "Requirement already satisfied: cryptography in /usr/local/lib/python3.10/dist-packages (from authlib<2.0.0,>=1.2.1->weaviate-client>2->farm-haystack[all]) (42.0.8)\n",
            "Requirement already satisfied: exceptiongroup>=1.1.1 in /usr/local/lib/python3.10/dist-packages (from cattrs>=22.2->requests-cache<1.0.0->farm-haystack[all]) (1.2.1)\n",
            "Requirement already satisfied: Werkzeug>=2.2.2 in /usr/local/lib/python3.10/dist-packages (from Flask<4->mlflow->farm-haystack[all]) (3.0.3)\n",
            "Requirement already satisfied: itsdangerous>=2.0 in /usr/local/lib/python3.10/dist-packages (from Flask<4->mlflow->farm-haystack[all]) (2.2.0)\n",
            "Requirement already satisfied: gitdb<5,>=4.0.1 in /usr/local/lib/python3.10/dist-packages (from gitpython<4,>=3.1.9->mlflow->farm-haystack[all]) (4.0.11)\n",
            "Requirement already satisfied: graphql-core<3.3,>=3.1 in /usr/local/lib/python3.10/dist-packages (from graphene<4->mlflow->farm-haystack[all]) (3.2.3)\n",
            "Requirement already satisfied: graphql-relay<3.3,>=3.1 in /usr/local/lib/python3.10/dist-packages (from graphene<4->mlflow->farm-haystack[all]) (3.2.0)\n",
            "Requirement already satisfied: aniso8601<10,>=8 in /usr/local/lib/python3.10/dist-packages (from graphene<4->mlflow->farm-haystack[all]) (9.0.1)\n",
            "Requirement already satisfied: zipp>=0.5 in /usr/local/lib/python3.10/dist-packages (from importlib-metadata!=4.7.0,<8,>=3.7.0->mlflow->farm-haystack[all]) (3.19.2)\n",
            "Requirement already satisfied: MarkupSafe>=2.0 in /usr/local/lib/python3.10/dist-packages (from Jinja2<4,>=2.11->mlflow->farm-haystack[all]) (2.1.5)\n",
            "Requirement already satisfied: contourpy>=1.0.1 in /usr/local/lib/python3.10/dist-packages (from matplotlib<4->mlflow->farm-haystack[all]) (1.2.1)\n",
            "Requirement already satisfied: cycler>=0.10 in /usr/local/lib/python3.10/dist-packages (from matplotlib<4->mlflow->farm-haystack[all]) (0.12.1)\n",
            "Requirement already satisfied: fonttools>=4.22.0 in /usr/local/lib/python3.10/dist-packages (from matplotlib<4->mlflow->farm-haystack[all]) (4.53.0)\n",
            "Requirement already satisfied: kiwisolver>=1.0.1 in /usr/local/lib/python3.10/dist-packages (from matplotlib<4->mlflow->farm-haystack[all]) (1.4.5)\n",
            "Requirement already satisfied: pyparsing>=2.3.1 in /usr/local/lib/python3.10/dist-packages (from matplotlib<4->mlflow->farm-haystack[all]) (3.1.2)\n",
            "Requirement already satisfied: isodate>=0.6.0 in /usr/local/lib/python3.10/dist-packages (from msrest>=0.6.21->azure-ai-formrecognizer>=3.2.0b2->farm-haystack[all]) (0.6.1)\n",
            "Requirement already satisfied: requests-oauthlib>=0.5.0 in /usr/local/lib/python3.10/dist-packages (from msrest>=0.6.21->azure-ai-formrecognizer>=3.2.0b2->farm-haystack[all]) (1.3.1)\n",
            "Requirement already satisfied: deprecated>=1.2.6 in /usr/local/lib/python3.10/dist-packages (from opentelemetry-api<3,>=1.9.0->mlflow->farm-haystack[all]) (1.2.14)\n",
            "Requirement already satisfied: opentelemetry-semantic-conventions==0.46b0 in /usr/local/lib/python3.10/dist-packages (from opentelemetry-sdk<3,>=1.9.0->mlflow->farm-haystack[all]) (0.46b0)\n",
            "Requirement already satisfied: sympy in /usr/local/lib/python3.10/dist-packages (from torch->transformers[sentencepiece,torch]==4.39.3; extra == \"all\"->farm-haystack[all]) (1.12.1)\n",
            "Requirement already satisfied: nvidia-cuda-nvrtc-cu12==12.1.105 in /usr/local/lib/python3.10/dist-packages (from torch->transformers[sentencepiece,torch]==4.39.3; extra == \"all\"->farm-haystack[all]) (12.1.105)\n",
            "Requirement already satisfied: nvidia-cuda-runtime-cu12==12.1.105 in /usr/local/lib/python3.10/dist-packages (from torch->transformers[sentencepiece,torch]==4.39.3; extra == \"all\"->farm-haystack[all]) (12.1.105)\n",
            "Requirement already satisfied: nvidia-cuda-cupti-cu12==12.1.105 in /usr/local/lib/python3.10/dist-packages (from torch->transformers[sentencepiece,torch]==4.39.3; extra == \"all\"->farm-haystack[all]) (12.1.105)\n",
            "Requirement already satisfied: nvidia-cudnn-cu12==8.9.2.26 in /usr/local/lib/python3.10/dist-packages (from torch->transformers[sentencepiece,torch]==4.39.3; extra == \"all\"->farm-haystack[all]) (8.9.2.26)\n",
            "Requirement already satisfied: nvidia-cublas-cu12==12.1.3.1 in /usr/local/lib/python3.10/dist-packages (from torch->transformers[sentencepiece,torch]==4.39.3; extra == \"all\"->farm-haystack[all]) (12.1.3.1)\n",
            "Requirement already satisfied: nvidia-cufft-cu12==11.0.2.54 in /usr/local/lib/python3.10/dist-packages (from torch->transformers[sentencepiece,torch]==4.39.3; extra == \"all\"->farm-haystack[all]) (11.0.2.54)\n",
            "Requirement already satisfied: nvidia-curand-cu12==10.3.2.106 in /usr/local/lib/python3.10/dist-packages (from torch->transformers[sentencepiece,torch]==4.39.3; extra == \"all\"->farm-haystack[all]) (10.3.2.106)\n",
            "Requirement already satisfied: nvidia-cusolver-cu12==11.4.5.107 in /usr/local/lib/python3.10/dist-packages (from torch->transformers[sentencepiece,torch]==4.39.3; extra == \"all\"->farm-haystack[all]) (11.4.5.107)\n",
            "Requirement already satisfied: nvidia-cusparse-cu12==12.1.0.106 in /usr/local/lib/python3.10/dist-packages (from torch->transformers[sentencepiece,torch]==4.39.3; extra == \"all\"->farm-haystack[all]) (12.1.0.106)\n",
            "Requirement already satisfied: nvidia-nccl-cu12==2.20.5 in /usr/local/lib/python3.10/dist-packages (from torch->transformers[sentencepiece,torch]==4.39.3; extra == \"all\"->farm-haystack[all]) (2.20.5)\n",
            "Requirement already satisfied: nvidia-nvtx-cu12==12.1.105 in /usr/local/lib/python3.10/dist-packages (from torch->transformers[sentencepiece,torch]==4.39.3; extra == \"all\"->farm-haystack[all]) (12.1.105)\n",
            "Requirement already satisfied: nvidia-nvjitlink-cu12 in /usr/local/lib/python3.10/dist-packages (from nvidia-cusolver-cu12==11.4.5.107->torch->transformers[sentencepiece,torch]==4.39.3; extra == \"all\"->farm-haystack[all]) (12.5.82)\n",
            "Requirement already satisfied: sortedcontainers in /usr/local/lib/python3.10/dist-packages (from trio~=0.17->selenium>=4.11.0->farm-haystack[all]) (2.4.0)\n",
            "Requirement already satisfied: outcome in /usr/local/lib/python3.10/dist-packages (from trio~=0.17->selenium>=4.11.0->farm-haystack[all]) (1.3.0.post0)\n",
            "Requirement already satisfied: wsproto>=0.14 in /usr/local/lib/python3.10/dist-packages (from trio-websocket~=0.9->selenium>=4.11.0->farm-haystack[all]) (1.2.0)\n",
            "Requirement already satisfied: PySocks!=1.5.7,<2.0,>=1.5.6 in /usr/local/lib/python3.10/dist-packages (from urllib3[socks]<3,>=1.26->selenium>=4.11.0->farm-haystack[all]) (1.7.1)\n",
            "Requirement already satisfied: docopt>=0.6.2 in /usr/local/lib/python3.10/dist-packages (from num2words->quantulum3->farm-haystack[all]) (0.6.2)\n",
            "Requirement already satisfied: llvmlite<0.42,>=0.41.0dev0 in /usr/local/lib/python3.10/dist-packages (from numba->openai-whisper>=20231106->farm-haystack[all]) (0.41.1)\n",
            "Requirement already satisfied: wrapt<2,>=1.10 in /usr/local/lib/python3.10/dist-packages (from deprecated>=1.2.6->opentelemetry-api<3,>=1.9.0->mlflow->farm-haystack[all]) (1.14.1)\n",
            "Requirement already satisfied: smmap<6,>=3.0.1 in /usr/local/lib/python3.10/dist-packages (from gitdb<5,>=4.0.1->gitpython<4,>=3.1.9->mlflow->farm-haystack[all]) (5.0.1)\n",
            "Requirement already satisfied: oauthlib>=3.0.0 in /usr/local/lib/python3.10/dist-packages (from requests-oauthlib>=0.5.0->msrest>=0.6.21->azure-ai-formrecognizer>=3.2.0b2->farm-haystack[all]) (3.2.2)\n",
            "Requirement already satisfied: cffi>=1.12 in /usr/local/lib/python3.10/dist-packages (from cryptography->authlib<2.0.0,>=1.2.1->weaviate-client>2->farm-haystack[all]) (1.16.0)\n",
            "Requirement already satisfied: mpmath<1.4.0,>=1.1.0 in /usr/local/lib/python3.10/dist-packages (from sympy->torch->transformers[sentencepiece,torch]==4.39.3; extra == \"all\"->farm-haystack[all]) (1.3.0)\n",
            "Requirement already satisfied: pycparser in /usr/local/lib/python3.10/dist-packages (from cffi>=1.12->cryptography->authlib<2.0.0,>=1.2.1->weaviate-client>2->farm-haystack[all]) (2.22)\n",
            "\u001b[33mWARNING: Running pip as the 'root' user can result in broken permissions and conflicting behaviour with the system package manager, possibly rendering your system unusable.It is recommended to use a virtual environment instead: https://pip.pypa.io/warnings/venv. Use the --root-user-action option if you know what you are doing and want to suppress this warning.\u001b[0m\u001b[33m\n",
            "\u001b[0m"
          ]
        }
      ]
    },
    {
      "cell_type": "code",
      "source": [
        "!pip install PyMuPDF"
      ],
      "metadata": {
        "colab": {
          "base_uri": "https://localhost:8080/"
        },
        "collapsed": true,
        "id": "oJ2nc75u-ssA",
        "outputId": "29691bb1-7a7a-4144-c4e8-b8b9e59fd268"
      },
      "execution_count": null,
      "outputs": [
        {
          "output_type": "stream",
          "name": "stdout",
          "text": [
            "Requirement already satisfied: PyMuPDF in /usr/local/lib/python3.10/dist-packages (1.24.7)\n",
            "Requirement already satisfied: PyMuPDFb==1.24.6 in /usr/local/lib/python3.10/dist-packages (from PyMuPDF) (1.24.6)\n",
            "\u001b[33mWARNING: Running pip as the 'root' user can result in broken permissions and conflicting behaviour with the system package manager, possibly rendering your system unusable.It is recommended to use a virtual environment instead: https://pip.pypa.io/warnings/venv. Use the --root-user-action option if you know what you are doing and want to suppress this warning.\u001b[0m\u001b[33m\n",
            "\u001b[0m"
          ]
        }
      ]
    },
    {
      "cell_type": "code",
      "source": [
        "from google.colab import drive\n",
        "drive.mount('/content/drive')"
      ],
      "metadata": {
        "colab": {
          "base_uri": "https://localhost:8080/"
        },
        "id": "hUpsYahp_Kc5",
        "outputId": "35690a5f-c3f6-4acb-fffb-7122b1a70263"
      },
      "execution_count": null,
      "outputs": [
        {
          "output_type": "stream",
          "name": "stdout",
          "text": [
            "Drive already mounted at /content/drive; to attempt to forcibly remount, call drive.mount(\"/content/drive\", force_remount=True).\n"
          ]
        }
      ]
    },
    {
      "cell_type": "code",
      "source": [
        "import fitz  # PyMuPDF\n",
        "\n",
        "# se deschide pdf-ul\n",
        "pdf_path = \"/content/drive/My Drive/metodologii/Taxe-de-studiu-2024-2025.pdf\"\n",
        "pdf_document = fitz.open(pdf_path)\n",
        "\n",
        "# se extrage textul din fiecare pagina\n",
        "text = \"\"\n",
        "for page_num in range(len(pdf_document)):\n",
        "    page = pdf_document.load_page(page_num)\n",
        "    text += page.get_text()\n",
        "\n",
        "# se salveaza textul intr-un fisier\n",
        "text_path = \"/content/drive/My Drive/metodologii/Taxe-de-studiu-2024-2025.txt\"\n",
        "with open(text_path, \"w\", encoding=\"utf-8\") as file:\n",
        "    file.write(text)\n",
        "\n",
        "print(text[:500])  # se afiseaza primele 500 de caractere\n"
      ],
      "metadata": {
        "colab": {
          "base_uri": "https://localhost:8080/"
        },
        "collapsed": true,
        "id": "9iYSRnLs_HOr",
        "outputId": "b24ed10d-0355-410b-a9f9-b82dc50340c9"
      },
      "execution_count": null,
      "outputs": [
        {
          "output_type": "stream",
          "name": "stdout",
          "text": [
            " \n",
            "Telef\n",
            " \n",
            " \n",
            "MINISTERUL EDUCAȚIEI NAȚIONALE \n",
            "UNIVERSITATEA DE VEST DIN TIMIȘOARA \n",
            "Bd. Vasile Pârvan, nr. 4,300223 Timişoara, România \n",
            "Tel: +40-(0)256-592.300 (310) \n",
            "Email: secretariat@e-uvt.ro \n",
            "www.uvt.ro \n",
            " \n",
            "TAXE DE STUDIU PENTRU ANUL UNIVERSITAR 2024-2025 \n",
            " \n",
            "Nr. \n",
            "crt. \n",
            "Facultatea \n",
            "Ciclul I (Licență) \n",
            "Ciclul II (Master) \n",
            "Ciclul III (Doctorat) \n",
            "An I \n",
            "An II \n",
            "An III \n",
            "An IV \n",
            "An I \n",
            "An II \n",
            "An I \n",
            "An II \n",
            "An III \n",
            "Prelungire \n",
            "1 \n",
            "Facultatea de Matematică și Informatică \n",
            "3500 lei \n",
            "3500 lei \n",
            "3500 lei \n",
            "- \n",
            "4000\n"
          ]
        }
      ]
    },
    {
      "cell_type": "code",
      "source": [
        "# se citeste textul convertit\n",
        "with open(text_path, 'r', encoding='utf-8') as file:\n",
        "    text = file.read()\n",
        "\n",
        "# se reformateaza intr-un format structurat\n",
        "formatted_text = \"\"\"\n",
        "Facultatea de Matematică și Informatică\n",
        "Licență:\n",
        "  Anul 1 : 3500 lei\n",
        "  Anul 2 : 3500 lei\n",
        "  Anul 3 : 3500 lei\n",
        "Master:\n",
        "  Anul 1 : 4000 lei\n",
        "  Anul 2 : 4000 lei\n",
        "Doctorat:\n",
        "  Anul 1: 6500 lei\n",
        "  Anul 2: 6500 lei\n",
        "  Anul 3: 6500 lei\n",
        "  Prelungire: 5000 lei\n",
        "\n",
        "Facultatea de Fizică\n",
        "Licență:\n",
        "  Anul 1 : 3500 lei\n",
        "  Anul 2 : 3500 lei\n",
        "  Anul 3 : 3500 lei\n",
        "Master:\n",
        "  Anul 1 : 4000 lei\n",
        "  Anul 2 : 4000 lei\n",
        "Doctorat:\n",
        "  Anul 1: 6500 lei\n",
        "  Anul 2: 6500 lei\n",
        "  Anul 3: 6500 lei\n",
        "  Prelungire: 5000 lei\n",
        "\n",
        "Facultatea de Chimie-Biologie-Geografie\n",
        "Licență:\n",
        "  Anul 1 : 3500 lei\n",
        "  Anul 2 : 3500 lei\n",
        "  Anul 3 : 3500 lei\n",
        "Master:\n",
        "  Anul 1 : 4000 lei\n",
        "  Anul 2 : 4000 lei\n",
        "Doctorat:\n",
        "  Anul 1: 6500 lei\n",
        "  Anul 2: 6500 lei\n",
        "  Anul 3: 6500 lei\n",
        "  Prelungire: 5000 lei\n",
        "\n",
        "Facultatea de Litere, Istorie și Teologie\n",
        "Licență:\n",
        "  Anul 1 : 3500 lei\n",
        "  Anul 2 : 3500 lei\n",
        "  Anul 3 : 3500 lei\n",
        "  Anul 4 : 3500 lei\n",
        "Master:\n",
        "  Anul 1 : 4000 lei\n",
        "  Anul 2 : 4000 lei\n",
        "Doctorat:\n",
        "  Anul 1: 7000 lei\n",
        "  Anul 2: 7000 lei\n",
        "  Anul 3: 7000 lei\n",
        "  Prelungire: 5000 lei\n",
        "\n",
        "Facultatea de Științe Politice, Filosofie și Șt. ale Comunicării\n",
        "Licență:\n",
        "  Anul 1 : 3500 lei\n",
        "  Anul 2 : 3500 lei\n",
        "  Anul 3 : 3500 lei\n",
        "Master:\n",
        "  Anul 1 : 4000 lei\n",
        "  Anul 2 : 4000 lei\n",
        "Doctorat:\n",
        "  Anul 1: 7000 lei\n",
        "  Anul 2: 7000 lei\n",
        "  Anul 3: 7000 lei\n",
        "  Prelungire: 5000 lei\n",
        "\n",
        "Facultatea de Sociologie și Psihologie\n",
        "Licență:\n",
        "  Anul 1 (ZI): 3500 lei\n",
        "  Anul 2 (ZI): 3500 lei\n",
        "  Anul 3 (ZI): 3500 lei\n",
        "  Anul 1 (ID): 3200 lei\n",
        "  Anul 2 (ID): 3200 lei\n",
        "  Anul 3 (ID): 3200 lei\n",
        "Master:\n",
        "  Anul 1 : 4000 lei\n",
        "  Anul 2 : 4000 lei\n",
        "Doctorat:\n",
        "  Anul 1: 7000 lei\n",
        "  Anul 2: 7000 lei\n",
        "  Anul 3: 7000 lei\n",
        "  Prelungire: 5000 lei\n",
        "\n",
        "Facultatea de Drept\n",
        "Licență:\n",
        "  Anul 1: 4500 lei\n",
        "  Anul 2: 4500 lei\n",
        "  Anul 3: 4500 lei\n",
        "  Anul 4: 4500 lei\n",
        "Master:\n",
        "  Anul 1: 5000 lei\n",
        "Doctorat:\n",
        "  Anul 1: 7000 lei\n",
        "  Anul 2: 7000 lei\n",
        "  Anul 3: 7000 lei\n",
        "  Prelungire: 5500 lei\n",
        "\n",
        "Facultatea de Arte si Design\n",
        "Licență:\n",
        "  Anul 1: 3800 lei\n",
        "  Anul 2: 3800 lei\n",
        "  Anul 3: 3800 lei\n",
        "Master:\n",
        "  Anul 1: 4300 lei\n",
        "  Anul 2: 4300 lei\n",
        "Doctorat:\n",
        "  Anul 1: 6500 lei\n",
        "  Anul 2: 6500 lei\n",
        "  Anul 3: 6500 lei\n",
        "  Prelungire: 5000 lei\n",
        "\n",
        "Facultatea de Economie și de Administrare a Afacerilor\n",
        "Licență:\n",
        "  Anul 1 (ZI): 3500 lei\n",
        "  Anul 2 (ZI): 3500 lei\n",
        "  Anul 3 (ZI): 3500 lei\n",
        "  Anul 1 (ID): 3200 lei\n",
        "  Anul 2 (ID): 3200 lei\n",
        "  Anul 3 (ID): 3200 lei\n",
        "Master:\n",
        "  Anul 1: 4000 lei\n",
        "  Anul 2: 4000 lei\n",
        "Doctorat:\n",
        "  Anul 1: 7000 lei\n",
        "  Anul 2: 7000 lei\n",
        "  Anul 3: 7000 lei\n",
        "  Prelungire: 7500 lei\n",
        "\n",
        "Facultatea de Muzică și Teatru\n",
        "Licență:\n",
        "  Anul 1 : 10000 lei\n",
        "  Anul 2 : 10000 lei\n",
        "  Anul 3 : 10000 lei\n",
        "  Anul 4 : 10000 lei\n",
        "  Anul 1 (Pedagogie muzicală): 6000 lei\n",
        "  Anul 2 (Pedagogie muzicală): 6000 lei\n",
        "  Anul 3 (Pedagogie muzicală): 6000 lei\n",
        "Master:\n",
        "  Anul 1: 10000 lei\n",
        "  Anul 2: 10000 lei\n",
        "Doctorat:\n",
        "  Anul 1: 8500 lei\n",
        "  Anul 2: 8500 lei\n",
        "  Anul 3: 8500 lei\n",
        "  Prelungire: 7500 lei\n",
        "\n",
        "Facultatea de Educație Fizică și Sport\n",
        "Licență:\n",
        "  Anul 1: 3500 lei\n",
        "  Anul 2: 3500 lei\n",
        "  Anul 3: 3500 lei\n",
        "Master:\n",
        "  Anul 1: 4000 lei\n",
        "  Anul 2: 4000 lei\n",
        "Doctorat:\n",
        "  Anul 1: 7000 lei\n",
        "  Anul 2: 7000 lei\n",
        "  Anul 3: 7000 lei\n",
        "  Prelungire: 5000 lei\n",
        "...\n",
        "\"\"\"\n",
        "\n",
        "with open(\"/content/drive/My Drive/metodologii/Taxe-de-studiu-2023-2024-structurat.txt\", \"w\", encoding=\"utf-8\") as file:\n",
        "    file.write(formatted_text)\n"
      ],
      "metadata": {
        "id": "9DUHnWAI_iDj"
      },
      "execution_count": null,
      "outputs": []
    },
    {
      "cell_type": "code",
      "source": [
        "import re\n",
        "\n",
        "# citirea textului convertit\n",
        "with open(\"/content/drive/My Drive/metodologii/Taxe-de-studiu-2023-2024-structurat.txt\", 'r', encoding='utf-8') as file:\n",
        "    structured_text = file.read()\n",
        "\n",
        "# model regex\n",
        "pattern = re.compile(\n",
        "    r\"Facultatea de ([\\w\\sȘț]+)\\nLicență:\\n\\s+Anul 1\\s*\\(?.*?\\)?:\\s*(\\d+ lei)\\n\\s+Anul 2\\s*\\(?.*?\\)?:\\s*(\\d+ lei)\\n\\s+Anul 3\\s*\\(?.*?\\)?:\\s*(\\d+ lei)\\n(?:\\s+Anul 4\\s*\\(?.*?\\)?:\\s*(\\d+ lei)\\n)?\"\n",
        "    r\"(?:\\s+Anul 1 \\(ID\\):\\s*(\\d+ lei)\\n\\s+Anul 2 \\(ID\\):\\s*(\\d+ lei)\\n\\s+Anul 3 \\(ID\\):\\s*(\\d+ lei)\\n)?\"\n",
        "    r\"(?:\\s+Anul 1 \\(Pedagogie muzicală\\):\\s*(\\d+ lei)\\n\\s+Anul 2 \\(Pedagogie muzicală\\):\\s*(\\d+ lei)\\n\\s+Anul 3 \\(Pedagogie muzicală\\):\\s*(\\d+ lei)\\n)?\"\n",
        "    r\"Master:\\n\\s+Anul 1\\s*\\(?.*?\\)?:\\s*(\\d+ lei)\\n\\s+Anul 2\\s*\\(?.*?\\)?:\\s*(\\d+ lei)\\n\"\n",
        "    r\"Doctorat:\\n\\s+Anul 1:\\s*(\\d+ lei)\\n\\s+Anul 2:\\s*(\\d+ lei)\\n\\s+Anul 3:\\s*(\\d+ lei)\\n\\s+Prelungire:\\s*(\\d+ lei)\",\n",
        "    re.DOTALL\n",
        ")\n",
        "matches = pattern.findall(structured_text)\n",
        "\n",
        "# se verifica daca regex-ul gaseste potriviri\n",
        "print(matches)\n",
        "\n",
        "# se creaza un set de date pentru intrebari si raspunsuri\n",
        "data = []\n",
        "for match in matches:\n",
        "    facultate, licenta_1, licenta_2, licenta_3, licenta_4, licenta_id_1, licenta_id_2, licenta_id_3, pedagogie_1, pedagogie_2, pedagogie_3, master_1, master_2, doctorat_1, doctorat_2, doctorat_3, prelungire = match\n",
        "\n",
        "    data.append({\n",
        "        \"context\": structured_text,\n",
        "        \"question\": f\"Care este taxa de scolarizare pentru anul 1, licenta, la {facultate}?\",\n",
        "        \"answers\": [{\"text\": licenta_1, \"answer_start\": structured_text.index(licenta_1)}]\n",
        "    })\n",
        "    data.append({\n",
        "        \"context\": structured_text,\n",
        "        \"question\": f\"Care este taxa de scolarizare pentru anul 2, licenta, la {facultate}?\",\n",
        "        \"answers\": [{\"text\": licenta_2, \"answer_start\": structured_text.index(licenta_2)}]\n",
        "    })\n",
        "    data.append({\n",
        "        \"context\": structured_text,\n",
        "        \"question\": f\"Care este taxa de scolarizare pentru anul 3, licenta, la {facultate}?\",\n",
        "        \"answers\": [{\"text\": licenta_3, \"answer_start\": structured_text.index(licenta_3)}]\n",
        "    })\n",
        "\n",
        "    if licenta_4:\n",
        "        data.append({\n",
        "            \"context\": structured_text,\n",
        "            \"question\": f\"Care este taxa de scolarizare pentru anul 4, licenta, la {facultate}?\",\n",
        "            \"answers\": [{\"text\": licenta_4, \"answer_start\": structured_text.index(licenta_4)}]\n",
        "        })\n",
        "\n",
        "    if licenta_id_1:\n",
        "        data.append({\n",
        "            \"context\": structured_text,\n",
        "            \"question\": f\"Care este taxa de scolarizare pentru anul 1, licenta (ID), la {facultate}?\",\n",
        "            \"answers\": [{\"text\": licenta_id_1, \"answer_start\": structured_text.index(licenta_id_1)}]\n",
        "        })\n",
        "        data.append({\n",
        "            \"context\": structured_text,\n",
        "            \"question\": f\"Care este taxa de scolarizare pentru anul 2, licenta (ID), la {facultate}?\",\n",
        "            \"answers\": [{\"text\": licenta_id_2, \"answer_start\": structured_text.index(licenta_id_2)}]\n",
        "        })\n",
        "        data.append({\n",
        "            \"context\": structured_text,\n",
        "            \"question\": f\"Care este taxa de scolarizare pentru anul 3, licenta (ID), la {facultate}?\",\n",
        "            \"answers\": [{\"text\": licenta_id_3, \"answer_start\": structured_text.index(licenta_id_3)}]\n",
        "        })\n",
        "\n",
        "    if pedagogie_1:\n",
        "        data.append({\n",
        "            \"context\": structured_text,\n",
        "            \"question\": f\"Care este taxa de scolarizare pentru anul 1, Pedagogie muzicală, la {facultate}?\",\n",
        "            \"answers\": [{\"text\": pedagogie_1, \"answer_start\": structured_text.index(pedagogie_1)}]\n",
        "        })\n",
        "        data.append({\n",
        "            \"context\": structured_text,\n",
        "            \"question\": f\"Care este taxa de scolarizare pentru anul 2, Pedagogie muzicală, la {facultate}?\",\n",
        "            \"answers\": [{\"text\": pedagogie_2, \"answer_start\": structured_text.index(pedagogie_2)}]\n",
        "        })\n",
        "        data.append({\n",
        "            \"context\": structured_text,\n",
        "            \"question\": f\"Care este taxa de scolarizare pentru anul 3, Pedagogie muzicală, la {facultate}?\",\n",
        "            \"answers\": [{\"text\": pedagogie_3, \"answer_start\": structured_text.index(pedagogie_3)}]\n",
        "        })\n",
        "\n",
        "    data.append({\n",
        "        \"context\": structured_text,\n",
        "        \"question\": f\"Care este taxa de scolarizare pentru anul 1, master, la {facultate}?\",\n",
        "        \"answers\": [{\"text\": master_1, \"answer_start\": structured_text.index(master_1)}]\n",
        "    })\n",
        "    data.append({\n",
        "        \"context\": structured_text,\n",
        "        \"question\": f\"Care este taxa de scolarizare pentru anul 2, master, la {facultate}?\",\n",
        "        \"answers\": [{\"text\": master_2, \"answer_start\": structured_text.index(master_2)}]\n",
        "    })\n",
        "    data.append({\n",
        "        \"context\": structured_text,\n",
        "        \"question\": f\"Care este taxa de scolarizare pentru anul 1, doctorat, la {facultate}?\",\n",
        "        \"answers\": [{\"text\": doctorat_1, \"answer_start\": structured_text.index(doctorat_1)}]\n",
        "    })\n",
        "    data.append({\n",
        "        \"context\": structured_text,\n",
        "        \"question\": f\"Care este taxa de scolarizare pentru anul 2, doctorat, la {facultate}?\",\n",
        "        \"answers\": [{\"text\": doctorat_2, \"answer_start\": structured_text.index(doctorat_2)}]\n",
        "    })\n",
        "    data.append({\n",
        "        \"context\": structured_text,\n",
        "        \"question\": f\"Care este taxa de scolarizare pentru anul 3, doctorat, la {facultate}?\",\n",
        "        \"answers\": [{\"text\": doctorat_3, \"answer_start\": structured_text.index(doctorat_3)}]\n",
        "    })\n",
        "    data.append({\n",
        "        \"context\": structured_text,\n",
        "        \"question\": f\"Care este taxa de scolarizare pentru prelungire, doctorat, la {facultate}?\",\n",
        "        \"answers\": [{\"text\": prelungire, \"answer_start\": structured_text.index(prelungire)}]\n",
        "    })\n",
        "\n",
        "print(data[:5])  # Afișăm primele 5 întrebări-răspunsuri pentru verificare\n"
      ],
      "metadata": {
        "colab": {
          "base_uri": "https://localhost:8080/"
        },
        "id": "uu0BYCJb_yNP",
        "outputId": "72509f16-0755-4676-c431-f32b3a741d62"
      },
      "execution_count": null,
      "outputs": [
        {
          "output_type": "stream",
          "name": "stdout",
          "text": [
            "[('Matematică și Informatică', '3500 lei', '3500 lei', '3500 lei', '', '', '', '', '', '', '', '4000 lei', '4000 lei', '6500 lei', '6500 lei', '6500 lei', '5000 lei'), ('Fizică', '3500 lei', '3500 lei', '3500 lei', '', '', '', '', '', '', '', '4000 lei', '4000 lei', '6500 lei', '6500 lei', '6500 lei', '5000 lei'), ('Sociologie și Psihologie', '3500 lei', '3500 lei', '3500 lei', '', '3200 lei', '3200 lei', '3200 lei', '', '', '', '4000 lei', '4000 lei', '7000 lei', '7000 lei', '7000 lei', '5000 lei'), ('Drept', '4500 lei', '4500 lei', '4500 lei', '4500 lei', '', '', '', '', '', '', '7000 lei', '4300 lei', '6500 lei', '6500 lei', '6500 lei', '5000 lei'), ('Economie și de Administrare a Afacerilor', '3500 lei', '3500 lei', '3500 lei', '', '3200 lei', '3200 lei', '3200 lei', '', '', '', '4000 lei', '4000 lei', '7000 lei', '7000 lei', '7000 lei', '7500 lei'), ('Muzică și Teatru', '10000 lei', '10000 lei', '10000 lei', '10000 lei', '', '', '', '6000 lei', '6000 lei', '6000 lei', '10000 lei', '10000 lei', '8500 lei', '8500 lei', '8500 lei', '7500 lei'), ('Educație Fizică și Sport', '3500 lei', '3500 lei', '3500 lei', '', '', '', '', '', '', '', '4000 lei', '4000 lei', '7000 lei', '7000 lei', '7000 lei', '5000 lei')]\n",
            "[{'context': '\\nFacultatea de Matematică și Informatică\\nLicență:\\n  Anul 1 : 3500 lei\\n  Anul 2 : 3500 lei\\n  Anul 3 : 3500 lei\\nMaster:\\n  Anul 1 : 4000 lei\\n  Anul 2 : 4000 lei\\nDoctorat:\\n  Anul 1: 6500 lei\\n  Anul 2: 6500 lei\\n  Anul 3: 6500 lei\\n  Prelungire: 5000 lei\\n\\nFacultatea de Fizică\\nLicență:\\n  Anul 1 : 3500 lei\\n  Anul 2 : 3500 lei\\n  Anul 3 : 3500 lei\\nMaster:\\n  Anul 1 : 4000 lei\\n  Anul 2 : 4000 lei\\nDoctorat:\\n  Anul 1: 6500 lei\\n  Anul 2: 6500 lei\\n  Anul 3: 6500 lei\\n  Prelungire: 5000 lei\\n\\nFacultatea de Chimie-Biologie-Geografie\\nLicență:\\n  Anul 1 : 3500 lei\\n  Anul 2 : 3500 lei\\n  Anul 3 : 3500 lei\\nMaster:\\n  Anul 1 : 4000 lei\\n  Anul 2 : 4000 lei\\nDoctorat:\\n  Anul 1: 6500 lei\\n  Anul 2: 6500 lei\\n  Anul 3: 6500 lei\\n  Prelungire: 5000 lei\\n\\nFacultatea de Litere, Istorie și Teologie\\nLicență:\\n  Anul 1 : 3500 lei\\n  Anul 2 : 3500 lei\\n  Anul 3 : 3500 lei\\n  Anul 4 : 3500 lei\\nMaster:\\n  Anul 1 : 4000 lei\\n  Anul 2 : 4000 lei\\nDoctorat:\\n  Anul 1: 7000 lei\\n  Anul 2: 7000 lei\\n  Anul 3: 7000 lei\\n  Prelungire: 5000 lei\\n\\nFacultatea de Științe Politice, Filosofie și Șt. ale Comunicării\\nLicență:\\n  Anul 1 : 3500 lei\\n  Anul 2 : 3500 lei\\n  Anul 3 : 3500 lei\\nMaster:\\n  Anul 1 : 4000 lei\\n  Anul 2 : 4000 lei\\nDoctorat:\\n  Anul 1: 7000 lei\\n  Anul 2: 7000 lei\\n  Anul 3: 7000 lei\\n  Prelungire: 5000 lei\\n\\nFacultatea de Sociologie și Psihologie\\nLicență:\\n  Anul 1 (ZI): 3500 lei\\n  Anul 2 (ZI): 3500 lei\\n  Anul 3 (ZI): 3500 lei\\n  Anul 1 (ID): 3200 lei\\n  Anul 2 (ID): 3200 lei\\n  Anul 3 (ID): 3200 lei\\nMaster:\\n  Anul 1 : 4000 lei\\n  Anul 2 : 4000 lei\\nDoctorat:\\n  Anul 1: 7000 lei\\n  Anul 2: 7000 lei\\n  Anul 3: 7000 lei\\n  Prelungire: 5000 lei\\n\\nFacultatea de Drept\\nLicență:\\n  Anul 1: 4500 lei\\n  Anul 2: 4500 lei\\n  Anul 3: 4500 lei\\n  Anul 4: 4500 lei\\nMaster:\\n  Anul 1: 5000 lei\\nDoctorat:\\n  Anul 1: 7000 lei\\n  Anul 2: 7000 lei\\n  Anul 3: 7000 lei\\n  Prelungire: 5500 lei\\n\\nFacultatea de Arte si Design\\nLicență:\\n  Anul 1: 3800 lei\\n  Anul 2: 3800 lei\\n  Anul 3: 3800 lei\\nMaster:\\n  Anul 1: 4300 lei\\n  Anul 2: 4300 lei\\nDoctorat:\\n  Anul 1: 6500 lei\\n  Anul 2: 6500 lei\\n  Anul 3: 6500 lei\\n  Prelungire: 5000 lei\\n\\nFacultatea de Economie și de Administrare a Afacerilor\\nLicență:\\n  Anul 1 (ZI): 3500 lei\\n  Anul 2 (ZI): 3500 lei\\n  Anul 3 (ZI): 3500 lei\\n  Anul 1 (ID): 3200 lei\\n  Anul 2 (ID): 3200 lei\\n  Anul 3 (ID): 3200 lei\\nMaster:\\n  Anul 1: 4000 lei\\n  Anul 2: 4000 lei\\nDoctorat:\\n  Anul 1: 7000 lei\\n  Anul 2: 7000 lei\\n  Anul 3: 7000 lei\\n  Prelungire: 7500 lei\\n\\nFacultatea de Muzică și Teatru\\nLicență:\\n  Anul 1 : 10000 lei\\n  Anul 2 : 10000 lei\\n  Anul 3 : 10000 lei\\n  Anul 4 : 10000 lei\\n  Anul 1 (Pedagogie muzicală): 6000 lei\\n  Anul 2 (Pedagogie muzicală): 6000 lei\\n  Anul 3 (Pedagogie muzicală): 6000 lei\\nMaster:\\n  Anul 1: 10000 lei\\n  Anul 2: 10000 lei\\nDoctorat:\\n  Anul 1: 8500 lei\\n  Anul 2: 8500 lei\\n  Anul 3: 8500 lei\\n  Prelungire: 7500 lei\\n\\nFacultatea de Educație Fizică și Sport\\nLicență:\\n  Anul 1: 3500 lei\\n  Anul 2: 3500 lei\\n  Anul 3: 3500 lei\\nMaster:\\n  Anul 1: 4000 lei\\n  Anul 2: 4000 lei\\nDoctorat:\\n  Anul 1: 7000 lei\\n  Anul 2: 7000 lei\\n  Anul 3: 7000 lei\\n  Prelungire: 5000 lei\\n...\\n', 'question': 'Care este taxa de scolarizare pentru anul 1, licenta, la Matematică și Informatică?', 'answers': [{'text': '3500 lei', 'answer_start': 61}]}, {'context': '\\nFacultatea de Matematică și Informatică\\nLicență:\\n  Anul 1 : 3500 lei\\n  Anul 2 : 3500 lei\\n  Anul 3 : 3500 lei\\nMaster:\\n  Anul 1 : 4000 lei\\n  Anul 2 : 4000 lei\\nDoctorat:\\n  Anul 1: 6500 lei\\n  Anul 2: 6500 lei\\n  Anul 3: 6500 lei\\n  Prelungire: 5000 lei\\n\\nFacultatea de Fizică\\nLicență:\\n  Anul 1 : 3500 lei\\n  Anul 2 : 3500 lei\\n  Anul 3 : 3500 lei\\nMaster:\\n  Anul 1 : 4000 lei\\n  Anul 2 : 4000 lei\\nDoctorat:\\n  Anul 1: 6500 lei\\n  Anul 2: 6500 lei\\n  Anul 3: 6500 lei\\n  Prelungire: 5000 lei\\n\\nFacultatea de Chimie-Biologie-Geografie\\nLicență:\\n  Anul 1 : 3500 lei\\n  Anul 2 : 3500 lei\\n  Anul 3 : 3500 lei\\nMaster:\\n  Anul 1 : 4000 lei\\n  Anul 2 : 4000 lei\\nDoctorat:\\n  Anul 1: 6500 lei\\n  Anul 2: 6500 lei\\n  Anul 3: 6500 lei\\n  Prelungire: 5000 lei\\n\\nFacultatea de Litere, Istorie și Teologie\\nLicență:\\n  Anul 1 : 3500 lei\\n  Anul 2 : 3500 lei\\n  Anul 3 : 3500 lei\\n  Anul 4 : 3500 lei\\nMaster:\\n  Anul 1 : 4000 lei\\n  Anul 2 : 4000 lei\\nDoctorat:\\n  Anul 1: 7000 lei\\n  Anul 2: 7000 lei\\n  Anul 3: 7000 lei\\n  Prelungire: 5000 lei\\n\\nFacultatea de Științe Politice, Filosofie și Șt. ale Comunicării\\nLicență:\\n  Anul 1 : 3500 lei\\n  Anul 2 : 3500 lei\\n  Anul 3 : 3500 lei\\nMaster:\\n  Anul 1 : 4000 lei\\n  Anul 2 : 4000 lei\\nDoctorat:\\n  Anul 1: 7000 lei\\n  Anul 2: 7000 lei\\n  Anul 3: 7000 lei\\n  Prelungire: 5000 lei\\n\\nFacultatea de Sociologie și Psihologie\\nLicență:\\n  Anul 1 (ZI): 3500 lei\\n  Anul 2 (ZI): 3500 lei\\n  Anul 3 (ZI): 3500 lei\\n  Anul 1 (ID): 3200 lei\\n  Anul 2 (ID): 3200 lei\\n  Anul 3 (ID): 3200 lei\\nMaster:\\n  Anul 1 : 4000 lei\\n  Anul 2 : 4000 lei\\nDoctorat:\\n  Anul 1: 7000 lei\\n  Anul 2: 7000 lei\\n  Anul 3: 7000 lei\\n  Prelungire: 5000 lei\\n\\nFacultatea de Drept\\nLicență:\\n  Anul 1: 4500 lei\\n  Anul 2: 4500 lei\\n  Anul 3: 4500 lei\\n  Anul 4: 4500 lei\\nMaster:\\n  Anul 1: 5000 lei\\nDoctorat:\\n  Anul 1: 7000 lei\\n  Anul 2: 7000 lei\\n  Anul 3: 7000 lei\\n  Prelungire: 5500 lei\\n\\nFacultatea de Arte si Design\\nLicență:\\n  Anul 1: 3800 lei\\n  Anul 2: 3800 lei\\n  Anul 3: 3800 lei\\nMaster:\\n  Anul 1: 4300 lei\\n  Anul 2: 4300 lei\\nDoctorat:\\n  Anul 1: 6500 lei\\n  Anul 2: 6500 lei\\n  Anul 3: 6500 lei\\n  Prelungire: 5000 lei\\n\\nFacultatea de Economie și de Administrare a Afacerilor\\nLicență:\\n  Anul 1 (ZI): 3500 lei\\n  Anul 2 (ZI): 3500 lei\\n  Anul 3 (ZI): 3500 lei\\n  Anul 1 (ID): 3200 lei\\n  Anul 2 (ID): 3200 lei\\n  Anul 3 (ID): 3200 lei\\nMaster:\\n  Anul 1: 4000 lei\\n  Anul 2: 4000 lei\\nDoctorat:\\n  Anul 1: 7000 lei\\n  Anul 2: 7000 lei\\n  Anul 3: 7000 lei\\n  Prelungire: 7500 lei\\n\\nFacultatea de Muzică și Teatru\\nLicență:\\n  Anul 1 : 10000 lei\\n  Anul 2 : 10000 lei\\n  Anul 3 : 10000 lei\\n  Anul 4 : 10000 lei\\n  Anul 1 (Pedagogie muzicală): 6000 lei\\n  Anul 2 (Pedagogie muzicală): 6000 lei\\n  Anul 3 (Pedagogie muzicală): 6000 lei\\nMaster:\\n  Anul 1: 10000 lei\\n  Anul 2: 10000 lei\\nDoctorat:\\n  Anul 1: 8500 lei\\n  Anul 2: 8500 lei\\n  Anul 3: 8500 lei\\n  Prelungire: 7500 lei\\n\\nFacultatea de Educație Fizică și Sport\\nLicență:\\n  Anul 1: 3500 lei\\n  Anul 2: 3500 lei\\n  Anul 3: 3500 lei\\nMaster:\\n  Anul 1: 4000 lei\\n  Anul 2: 4000 lei\\nDoctorat:\\n  Anul 1: 7000 lei\\n  Anul 2: 7000 lei\\n  Anul 3: 7000 lei\\n  Prelungire: 5000 lei\\n...\\n', 'question': 'Care este taxa de scolarizare pentru anul 2, licenta, la Matematică și Informatică?', 'answers': [{'text': '3500 lei', 'answer_start': 61}]}, {'context': '\\nFacultatea de Matematică și Informatică\\nLicență:\\n  Anul 1 : 3500 lei\\n  Anul 2 : 3500 lei\\n  Anul 3 : 3500 lei\\nMaster:\\n  Anul 1 : 4000 lei\\n  Anul 2 : 4000 lei\\nDoctorat:\\n  Anul 1: 6500 lei\\n  Anul 2: 6500 lei\\n  Anul 3: 6500 lei\\n  Prelungire: 5000 lei\\n\\nFacultatea de Fizică\\nLicență:\\n  Anul 1 : 3500 lei\\n  Anul 2 : 3500 lei\\n  Anul 3 : 3500 lei\\nMaster:\\n  Anul 1 : 4000 lei\\n  Anul 2 : 4000 lei\\nDoctorat:\\n  Anul 1: 6500 lei\\n  Anul 2: 6500 lei\\n  Anul 3: 6500 lei\\n  Prelungire: 5000 lei\\n\\nFacultatea de Chimie-Biologie-Geografie\\nLicență:\\n  Anul 1 : 3500 lei\\n  Anul 2 : 3500 lei\\n  Anul 3 : 3500 lei\\nMaster:\\n  Anul 1 : 4000 lei\\n  Anul 2 : 4000 lei\\nDoctorat:\\n  Anul 1: 6500 lei\\n  Anul 2: 6500 lei\\n  Anul 3: 6500 lei\\n  Prelungire: 5000 lei\\n\\nFacultatea de Litere, Istorie și Teologie\\nLicență:\\n  Anul 1 : 3500 lei\\n  Anul 2 : 3500 lei\\n  Anul 3 : 3500 lei\\n  Anul 4 : 3500 lei\\nMaster:\\n  Anul 1 : 4000 lei\\n  Anul 2 : 4000 lei\\nDoctorat:\\n  Anul 1: 7000 lei\\n  Anul 2: 7000 lei\\n  Anul 3: 7000 lei\\n  Prelungire: 5000 lei\\n\\nFacultatea de Științe Politice, Filosofie și Șt. ale Comunicării\\nLicență:\\n  Anul 1 : 3500 lei\\n  Anul 2 : 3500 lei\\n  Anul 3 : 3500 lei\\nMaster:\\n  Anul 1 : 4000 lei\\n  Anul 2 : 4000 lei\\nDoctorat:\\n  Anul 1: 7000 lei\\n  Anul 2: 7000 lei\\n  Anul 3: 7000 lei\\n  Prelungire: 5000 lei\\n\\nFacultatea de Sociologie și Psihologie\\nLicență:\\n  Anul 1 (ZI): 3500 lei\\n  Anul 2 (ZI): 3500 lei\\n  Anul 3 (ZI): 3500 lei\\n  Anul 1 (ID): 3200 lei\\n  Anul 2 (ID): 3200 lei\\n  Anul 3 (ID): 3200 lei\\nMaster:\\n  Anul 1 : 4000 lei\\n  Anul 2 : 4000 lei\\nDoctorat:\\n  Anul 1: 7000 lei\\n  Anul 2: 7000 lei\\n  Anul 3: 7000 lei\\n  Prelungire: 5000 lei\\n\\nFacultatea de Drept\\nLicență:\\n  Anul 1: 4500 lei\\n  Anul 2: 4500 lei\\n  Anul 3: 4500 lei\\n  Anul 4: 4500 lei\\nMaster:\\n  Anul 1: 5000 lei\\nDoctorat:\\n  Anul 1: 7000 lei\\n  Anul 2: 7000 lei\\n  Anul 3: 7000 lei\\n  Prelungire: 5500 lei\\n\\nFacultatea de Arte si Design\\nLicență:\\n  Anul 1: 3800 lei\\n  Anul 2: 3800 lei\\n  Anul 3: 3800 lei\\nMaster:\\n  Anul 1: 4300 lei\\n  Anul 2: 4300 lei\\nDoctorat:\\n  Anul 1: 6500 lei\\n  Anul 2: 6500 lei\\n  Anul 3: 6500 lei\\n  Prelungire: 5000 lei\\n\\nFacultatea de Economie și de Administrare a Afacerilor\\nLicență:\\n  Anul 1 (ZI): 3500 lei\\n  Anul 2 (ZI): 3500 lei\\n  Anul 3 (ZI): 3500 lei\\n  Anul 1 (ID): 3200 lei\\n  Anul 2 (ID): 3200 lei\\n  Anul 3 (ID): 3200 lei\\nMaster:\\n  Anul 1: 4000 lei\\n  Anul 2: 4000 lei\\nDoctorat:\\n  Anul 1: 7000 lei\\n  Anul 2: 7000 lei\\n  Anul 3: 7000 lei\\n  Prelungire: 7500 lei\\n\\nFacultatea de Muzică și Teatru\\nLicență:\\n  Anul 1 : 10000 lei\\n  Anul 2 : 10000 lei\\n  Anul 3 : 10000 lei\\n  Anul 4 : 10000 lei\\n  Anul 1 (Pedagogie muzicală): 6000 lei\\n  Anul 2 (Pedagogie muzicală): 6000 lei\\n  Anul 3 (Pedagogie muzicală): 6000 lei\\nMaster:\\n  Anul 1: 10000 lei\\n  Anul 2: 10000 lei\\nDoctorat:\\n  Anul 1: 8500 lei\\n  Anul 2: 8500 lei\\n  Anul 3: 8500 lei\\n  Prelungire: 7500 lei\\n\\nFacultatea de Educație Fizică și Sport\\nLicență:\\n  Anul 1: 3500 lei\\n  Anul 2: 3500 lei\\n  Anul 3: 3500 lei\\nMaster:\\n  Anul 1: 4000 lei\\n  Anul 2: 4000 lei\\nDoctorat:\\n  Anul 1: 7000 lei\\n  Anul 2: 7000 lei\\n  Anul 3: 7000 lei\\n  Prelungire: 5000 lei\\n...\\n', 'question': 'Care este taxa de scolarizare pentru anul 3, licenta, la Matematică și Informatică?', 'answers': [{'text': '3500 lei', 'answer_start': 61}]}, {'context': '\\nFacultatea de Matematică și Informatică\\nLicență:\\n  Anul 1 : 3500 lei\\n  Anul 2 : 3500 lei\\n  Anul 3 : 3500 lei\\nMaster:\\n  Anul 1 : 4000 lei\\n  Anul 2 : 4000 lei\\nDoctorat:\\n  Anul 1: 6500 lei\\n  Anul 2: 6500 lei\\n  Anul 3: 6500 lei\\n  Prelungire: 5000 lei\\n\\nFacultatea de Fizică\\nLicență:\\n  Anul 1 : 3500 lei\\n  Anul 2 : 3500 lei\\n  Anul 3 : 3500 lei\\nMaster:\\n  Anul 1 : 4000 lei\\n  Anul 2 : 4000 lei\\nDoctorat:\\n  Anul 1: 6500 lei\\n  Anul 2: 6500 lei\\n  Anul 3: 6500 lei\\n  Prelungire: 5000 lei\\n\\nFacultatea de Chimie-Biologie-Geografie\\nLicență:\\n  Anul 1 : 3500 lei\\n  Anul 2 : 3500 lei\\n  Anul 3 : 3500 lei\\nMaster:\\n  Anul 1 : 4000 lei\\n  Anul 2 : 4000 lei\\nDoctorat:\\n  Anul 1: 6500 lei\\n  Anul 2: 6500 lei\\n  Anul 3: 6500 lei\\n  Prelungire: 5000 lei\\n\\nFacultatea de Litere, Istorie și Teologie\\nLicență:\\n  Anul 1 : 3500 lei\\n  Anul 2 : 3500 lei\\n  Anul 3 : 3500 lei\\n  Anul 4 : 3500 lei\\nMaster:\\n  Anul 1 : 4000 lei\\n  Anul 2 : 4000 lei\\nDoctorat:\\n  Anul 1: 7000 lei\\n  Anul 2: 7000 lei\\n  Anul 3: 7000 lei\\n  Prelungire: 5000 lei\\n\\nFacultatea de Științe Politice, Filosofie și Șt. ale Comunicării\\nLicență:\\n  Anul 1 : 3500 lei\\n  Anul 2 : 3500 lei\\n  Anul 3 : 3500 lei\\nMaster:\\n  Anul 1 : 4000 lei\\n  Anul 2 : 4000 lei\\nDoctorat:\\n  Anul 1: 7000 lei\\n  Anul 2: 7000 lei\\n  Anul 3: 7000 lei\\n  Prelungire: 5000 lei\\n\\nFacultatea de Sociologie și Psihologie\\nLicență:\\n  Anul 1 (ZI): 3500 lei\\n  Anul 2 (ZI): 3500 lei\\n  Anul 3 (ZI): 3500 lei\\n  Anul 1 (ID): 3200 lei\\n  Anul 2 (ID): 3200 lei\\n  Anul 3 (ID): 3200 lei\\nMaster:\\n  Anul 1 : 4000 lei\\n  Anul 2 : 4000 lei\\nDoctorat:\\n  Anul 1: 7000 lei\\n  Anul 2: 7000 lei\\n  Anul 3: 7000 lei\\n  Prelungire: 5000 lei\\n\\nFacultatea de Drept\\nLicență:\\n  Anul 1: 4500 lei\\n  Anul 2: 4500 lei\\n  Anul 3: 4500 lei\\n  Anul 4: 4500 lei\\nMaster:\\n  Anul 1: 5000 lei\\nDoctorat:\\n  Anul 1: 7000 lei\\n  Anul 2: 7000 lei\\n  Anul 3: 7000 lei\\n  Prelungire: 5500 lei\\n\\nFacultatea de Arte si Design\\nLicență:\\n  Anul 1: 3800 lei\\n  Anul 2: 3800 lei\\n  Anul 3: 3800 lei\\nMaster:\\n  Anul 1: 4300 lei\\n  Anul 2: 4300 lei\\nDoctorat:\\n  Anul 1: 6500 lei\\n  Anul 2: 6500 lei\\n  Anul 3: 6500 lei\\n  Prelungire: 5000 lei\\n\\nFacultatea de Economie și de Administrare a Afacerilor\\nLicență:\\n  Anul 1 (ZI): 3500 lei\\n  Anul 2 (ZI): 3500 lei\\n  Anul 3 (ZI): 3500 lei\\n  Anul 1 (ID): 3200 lei\\n  Anul 2 (ID): 3200 lei\\n  Anul 3 (ID): 3200 lei\\nMaster:\\n  Anul 1: 4000 lei\\n  Anul 2: 4000 lei\\nDoctorat:\\n  Anul 1: 7000 lei\\n  Anul 2: 7000 lei\\n  Anul 3: 7000 lei\\n  Prelungire: 7500 lei\\n\\nFacultatea de Muzică și Teatru\\nLicență:\\n  Anul 1 : 10000 lei\\n  Anul 2 : 10000 lei\\n  Anul 3 : 10000 lei\\n  Anul 4 : 10000 lei\\n  Anul 1 (Pedagogie muzicală): 6000 lei\\n  Anul 2 (Pedagogie muzicală): 6000 lei\\n  Anul 3 (Pedagogie muzicală): 6000 lei\\nMaster:\\n  Anul 1: 10000 lei\\n  Anul 2: 10000 lei\\nDoctorat:\\n  Anul 1: 8500 lei\\n  Anul 2: 8500 lei\\n  Anul 3: 8500 lei\\n  Prelungire: 7500 lei\\n\\nFacultatea de Educație Fizică și Sport\\nLicență:\\n  Anul 1: 3500 lei\\n  Anul 2: 3500 lei\\n  Anul 3: 3500 lei\\nMaster:\\n  Anul 1: 4000 lei\\n  Anul 2: 4000 lei\\nDoctorat:\\n  Anul 1: 7000 lei\\n  Anul 2: 7000 lei\\n  Anul 3: 7000 lei\\n  Prelungire: 5000 lei\\n...\\n', 'question': 'Care este taxa de scolarizare pentru anul 1, master, la Matematică și Informatică?', 'answers': [{'text': '4000 lei', 'answer_start': 129}]}, {'context': '\\nFacultatea de Matematică și Informatică\\nLicență:\\n  Anul 1 : 3500 lei\\n  Anul 2 : 3500 lei\\n  Anul 3 : 3500 lei\\nMaster:\\n  Anul 1 : 4000 lei\\n  Anul 2 : 4000 lei\\nDoctorat:\\n  Anul 1: 6500 lei\\n  Anul 2: 6500 lei\\n  Anul 3: 6500 lei\\n  Prelungire: 5000 lei\\n\\nFacultatea de Fizică\\nLicență:\\n  Anul 1 : 3500 lei\\n  Anul 2 : 3500 lei\\n  Anul 3 : 3500 lei\\nMaster:\\n  Anul 1 : 4000 lei\\n  Anul 2 : 4000 lei\\nDoctorat:\\n  Anul 1: 6500 lei\\n  Anul 2: 6500 lei\\n  Anul 3: 6500 lei\\n  Prelungire: 5000 lei\\n\\nFacultatea de Chimie-Biologie-Geografie\\nLicență:\\n  Anul 1 : 3500 lei\\n  Anul 2 : 3500 lei\\n  Anul 3 : 3500 lei\\nMaster:\\n  Anul 1 : 4000 lei\\n  Anul 2 : 4000 lei\\nDoctorat:\\n  Anul 1: 6500 lei\\n  Anul 2: 6500 lei\\n  Anul 3: 6500 lei\\n  Prelungire: 5000 lei\\n\\nFacultatea de Litere, Istorie și Teologie\\nLicență:\\n  Anul 1 : 3500 lei\\n  Anul 2 : 3500 lei\\n  Anul 3 : 3500 lei\\n  Anul 4 : 3500 lei\\nMaster:\\n  Anul 1 : 4000 lei\\n  Anul 2 : 4000 lei\\nDoctorat:\\n  Anul 1: 7000 lei\\n  Anul 2: 7000 lei\\n  Anul 3: 7000 lei\\n  Prelungire: 5000 lei\\n\\nFacultatea de Științe Politice, Filosofie și Șt. ale Comunicării\\nLicență:\\n  Anul 1 : 3500 lei\\n  Anul 2 : 3500 lei\\n  Anul 3 : 3500 lei\\nMaster:\\n  Anul 1 : 4000 lei\\n  Anul 2 : 4000 lei\\nDoctorat:\\n  Anul 1: 7000 lei\\n  Anul 2: 7000 lei\\n  Anul 3: 7000 lei\\n  Prelungire: 5000 lei\\n\\nFacultatea de Sociologie și Psihologie\\nLicență:\\n  Anul 1 (ZI): 3500 lei\\n  Anul 2 (ZI): 3500 lei\\n  Anul 3 (ZI): 3500 lei\\n  Anul 1 (ID): 3200 lei\\n  Anul 2 (ID): 3200 lei\\n  Anul 3 (ID): 3200 lei\\nMaster:\\n  Anul 1 : 4000 lei\\n  Anul 2 : 4000 lei\\nDoctorat:\\n  Anul 1: 7000 lei\\n  Anul 2: 7000 lei\\n  Anul 3: 7000 lei\\n  Prelungire: 5000 lei\\n\\nFacultatea de Drept\\nLicență:\\n  Anul 1: 4500 lei\\n  Anul 2: 4500 lei\\n  Anul 3: 4500 lei\\n  Anul 4: 4500 lei\\nMaster:\\n  Anul 1: 5000 lei\\nDoctorat:\\n  Anul 1: 7000 lei\\n  Anul 2: 7000 lei\\n  Anul 3: 7000 lei\\n  Prelungire: 5500 lei\\n\\nFacultatea de Arte si Design\\nLicență:\\n  Anul 1: 3800 lei\\n  Anul 2: 3800 lei\\n  Anul 3: 3800 lei\\nMaster:\\n  Anul 1: 4300 lei\\n  Anul 2: 4300 lei\\nDoctorat:\\n  Anul 1: 6500 lei\\n  Anul 2: 6500 lei\\n  Anul 3: 6500 lei\\n  Prelungire: 5000 lei\\n\\nFacultatea de Economie și de Administrare a Afacerilor\\nLicență:\\n  Anul 1 (ZI): 3500 lei\\n  Anul 2 (ZI): 3500 lei\\n  Anul 3 (ZI): 3500 lei\\n  Anul 1 (ID): 3200 lei\\n  Anul 2 (ID): 3200 lei\\n  Anul 3 (ID): 3200 lei\\nMaster:\\n  Anul 1: 4000 lei\\n  Anul 2: 4000 lei\\nDoctorat:\\n  Anul 1: 7000 lei\\n  Anul 2: 7000 lei\\n  Anul 3: 7000 lei\\n  Prelungire: 7500 lei\\n\\nFacultatea de Muzică și Teatru\\nLicență:\\n  Anul 1 : 10000 lei\\n  Anul 2 : 10000 lei\\n  Anul 3 : 10000 lei\\n  Anul 4 : 10000 lei\\n  Anul 1 (Pedagogie muzicală): 6000 lei\\n  Anul 2 (Pedagogie muzicală): 6000 lei\\n  Anul 3 (Pedagogie muzicală): 6000 lei\\nMaster:\\n  Anul 1: 10000 lei\\n  Anul 2: 10000 lei\\nDoctorat:\\n  Anul 1: 8500 lei\\n  Anul 2: 8500 lei\\n  Anul 3: 8500 lei\\n  Prelungire: 7500 lei\\n\\nFacultatea de Educație Fizică și Sport\\nLicență:\\n  Anul 1: 3500 lei\\n  Anul 2: 3500 lei\\n  Anul 3: 3500 lei\\nMaster:\\n  Anul 1: 4000 lei\\n  Anul 2: 4000 lei\\nDoctorat:\\n  Anul 1: 7000 lei\\n  Anul 2: 7000 lei\\n  Anul 3: 7000 lei\\n  Prelungire: 5000 lei\\n...\\n', 'question': 'Care este taxa de scolarizare pentru anul 2, master, la Matematică și Informatică?', 'answers': [{'text': '4000 lei', 'answer_start': 129}]}]\n"
          ]
        }
      ]
    },
    {
      "cell_type": "code",
      "source": [
        "import json\n",
        "import os\n",
        "\n",
        "# functia pentru exportarea setului de date in format SQuAD\n",
        "\n",
        "def export_to_squad(data, output_dir, filename):\n",
        "    if not os.path.exists(output_dir):\n",
        "        os.makedirs(output_dir)\n",
        "\n",
        "    squad_format = {\n",
        "        \"version\": \"v2.0\",\n",
        "        \"data\": []\n",
        "    }\n",
        "\n",
        "    for item in data:\n",
        "        context = item[\"context\"]\n",
        "        question = item[\"question\"]\n",
        "        answers = item[\"answers\"]\n",
        "        qas = []\n",
        "        for answer in answers:\n",
        "            qas.append({\n",
        "                \"question\": question,\n",
        "                \"id\": str(hash(question + answer[\"text\"])),\n",
        "                \"answers\": [{\"text\": answer[\"text\"], \"answer_start\": answer[\"answer_start\"]}],\n",
        "                \"is_impossible\": False\n",
        "            })\n",
        "        squad_format[\"data\"].append({\n",
        "            \"title\": \"Dataset\",\n",
        "            \"paragraphs\": [{\"context\": context, \"qas\": qas}]\n",
        "        })\n",
        "\n",
        "    output_path = os.path.join(output_dir, filename)\n",
        "    with open(output_path, 'w', encoding='utf-8') as f:\n",
        "        json.dump(squad_format, f, ensure_ascii=False, indent=4)\n",
        "\n",
        "# exportarea si salvarea in format SQuAD\n",
        "\n",
        "export_to_squad(data, output_dir=\"training_data\", filename=\"train.json\")\n"
      ],
      "metadata": {
        "id": "8wjqK3PaGuRH"
      },
      "execution_count": null,
      "outputs": []
    },
    {
      "cell_type": "code",
      "source": [
        "!pip install --upgrade pip\n",
        "!pip install farm-haystack[all]"
      ],
      "metadata": {
        "colab": {
          "base_uri": "https://localhost:8080/"
        },
        "collapsed": true,
        "id": "3xO0-gf3MSsh",
        "outputId": "694a66c9-f166-4d1e-98d4-335b1abfcd78"
      },
      "execution_count": null,
      "outputs": [
        {
          "output_type": "stream",
          "name": "stdout",
          "text": [
            "Requirement already satisfied: pip in /usr/local/lib/python3.10/dist-packages (24.1.2)\n",
            "\u001b[33mWARNING: Running pip as the 'root' user can result in broken permissions and conflicting behaviour with the system package manager, possibly rendering your system unusable.It is recommended to use a virtual environment instead: https://pip.pypa.io/warnings/venv. Use the --root-user-action option if you know what you are doing and want to suppress this warning.\u001b[0m\u001b[33m\n",
            "\u001b[0mRequirement already satisfied: farm-haystack[all] in /usr/local/lib/python3.10/dist-packages (1.26.2)\n",
            "Requirement already satisfied: boilerpy3 in /usr/local/lib/python3.10/dist-packages (from farm-haystack[all]) (1.0.7)\n",
            "Requirement already satisfied: events in /usr/local/lib/python3.10/dist-packages (from farm-haystack[all]) (0.5)\n",
            "Requirement already satisfied: httpx in /usr/local/lib/python3.10/dist-packages (from farm-haystack[all]) (0.27.0)\n",
            "Requirement already satisfied: jsonschema in /usr/local/lib/python3.10/dist-packages (from farm-haystack[all]) (4.19.2)\n",
            "Requirement already satisfied: lazy-imports==0.3.1 in /usr/local/lib/python3.10/dist-packages (from farm-haystack[all]) (0.3.1)\n",
            "Requirement already satisfied: more-itertools in /usr/local/lib/python3.10/dist-packages (from farm-haystack[all]) (10.1.0)\n",
            "Requirement already satisfied: networkx in /usr/local/lib/python3.10/dist-packages (from farm-haystack[all]) (3.3)\n",
            "Requirement already satisfied: pandas in /usr/local/lib/python3.10/dist-packages (from farm-haystack[all]) (2.0.3)\n",
            "Requirement already satisfied: pillow in /usr/local/lib/python3.10/dist-packages (from farm-haystack[all]) (9.4.0)\n",
            "Requirement already satisfied: platformdirs in /usr/local/lib/python3.10/dist-packages (from farm-haystack[all]) (4.2.2)\n",
            "Requirement already satisfied: posthog in /usr/local/lib/python3.10/dist-packages (from farm-haystack[all]) (3.5.0)\n",
            "Requirement already satisfied: prompthub-py==4.0.0 in /usr/local/lib/python3.10/dist-packages (from farm-haystack[all]) (4.0.0)\n",
            "Requirement already satisfied: pydantic<2 in /usr/local/lib/python3.10/dist-packages (from farm-haystack[all]) (1.10.17)\n",
            "Requirement already satisfied: quantulum3 in /usr/local/lib/python3.10/dist-packages (from farm-haystack[all]) (0.9.2)\n",
            "Requirement already satisfied: rank-bm25 in /usr/local/lib/python3.10/dist-packages (from farm-haystack[all]) (0.2.2)\n",
            "Requirement already satisfied: requests in /usr/local/lib/python3.10/dist-packages (from farm-haystack[all]) (2.31.0)\n",
            "Requirement already satisfied: requests-cache<1.0.0 in /usr/local/lib/python3.10/dist-packages (from farm-haystack[all]) (0.9.8)\n",
            "Requirement already satisfied: scikit-learn>=1.3.0 in /usr/local/lib/python3.10/dist-packages (from farm-haystack[all]) (1.5.1)\n",
            "Requirement already satisfied: sseclient-py in /usr/local/lib/python3.10/dist-packages (from farm-haystack[all]) (1.8.0)\n",
            "Requirement already satisfied: tenacity in /usr/local/lib/python3.10/dist-packages (from farm-haystack[all]) (8.4.2)\n",
            "Requirement already satisfied: tiktoken>=0.5.1 in /usr/local/lib/python3.10/dist-packages (from farm-haystack[all]) (0.7.0)\n",
            "Requirement already satisfied: tqdm in /usr/local/lib/python3.10/dist-packages (from farm-haystack[all]) (4.66.4)\n",
            "Requirement already satisfied: transformers==4.39.3 in /usr/local/lib/python3.10/dist-packages (from farm-haystack[all]) (4.39.3)\n",
            "Requirement already satisfied: azure-ai-formrecognizer>=3.2.0b2 in /usr/local/lib/python3.10/dist-packages (from farm-haystack[all]) (3.3.3)\n",
            "Requirement already satisfied: beautifulsoup4 in /usr/local/lib/python3.10/dist-packages (from farm-haystack[all]) (4.12.3)\n",
            "Requirement already satisfied: boto3>=1.28.57 in /usr/local/lib/python3.10/dist-packages (from farm-haystack[all]) (1.34.141)\n",
            "Requirement already satisfied: elastic-transport<8 in /usr/local/lib/python3.10/dist-packages (from farm-haystack[all]) (7.16.0)\n",
            "Requirement already satisfied: elasticsearch<8,>=7.17 in /usr/local/lib/python3.10/dist-packages (from farm-haystack[all]) (7.17.9)\n",
            "Requirement already satisfied: faiss-cpu<=1.7.2,>=1.6.3 in /usr/local/lib/python3.10/dist-packages (from farm-haystack[all]) (1.7.2)\n",
            "Requirement already satisfied: huggingface-hub>=0.5.0 in /usr/local/lib/python3.10/dist-packages (from farm-haystack[all]) (0.23.4)\n",
            "Requirement already satisfied: langdetect in /usr/local/lib/python3.10/dist-packages (from farm-haystack[all]) (1.0.9)\n",
            "Requirement already satisfied: markdown in /usr/local/lib/python3.10/dist-packages (from farm-haystack[all]) (3.6)\n",
            "Requirement already satisfied: mlflow in /usr/local/lib/python3.10/dist-packages (from farm-haystack[all]) (2.14.2)\n",
            "Requirement already satisfied: nltk in /usr/local/lib/python3.10/dist-packages (from farm-haystack[all]) (3.8.1)\n",
            "Requirement already satisfied: openai-whisper>=20231106 in /usr/local/lib/python3.10/dist-packages (from farm-haystack[all]) (20231117)\n",
            "Requirement already satisfied: opensearch-py>=2 in /usr/local/lib/python3.10/dist-packages (from farm-haystack[all]) (2.6.0)\n",
            "Requirement already satisfied: pdf2image>1.14 in /usr/local/lib/python3.10/dist-packages (from farm-haystack[all]) (1.17.0)\n",
            "Requirement already satisfied: pinecone-client<3,>=2.0.11 in /usr/local/lib/python3.10/dist-packages (from farm-haystack[all]) (2.2.4)\n",
            "Requirement already satisfied: psycopg2-binary in /usr/local/lib/python3.10/dist-packages (from farm-haystack[all]) (2.9.9)\n",
            "Requirement already satisfied: pymongo>=4.6 in /usr/local/lib/python3.10/dist-packages (from farm-haystack[all]) (4.8.0)\n",
            "Requirement already satisfied: pytesseract>0.3.7 in /usr/local/lib/python3.10/dist-packages (from farm-haystack[all]) (0.3.10)\n",
            "Requirement already satisfied: python-docx in /usr/local/lib/python3.10/dist-packages (from farm-haystack[all]) (1.1.2)\n",
            "Requirement already satisfied: python-frontmatter in /usr/local/lib/python3.10/dist-packages (from farm-haystack[all]) (1.1.0)\n",
            "Requirement already satisfied: python-magic in /usr/local/lib/python3.10/dist-packages (from farm-haystack[all]) (0.4.27)\n",
            "Requirement already satisfied: python-pptx in /usr/local/lib/python3.10/dist-packages (from farm-haystack[all]) (0.6.23)\n",
            "Requirement already satisfied: rapidfuzz<2.8.0,>=2.0.15 in /usr/local/lib/python3.10/dist-packages (from farm-haystack[all]) (2.7.0)\n",
            "Requirement already satisfied: scipy>=1.3.2 in /usr/local/lib/python3.10/dist-packages (from farm-haystack[all]) (1.11.4)\n",
            "Requirement already satisfied: selenium>=4.11.0 in /usr/local/lib/python3.10/dist-packages (from farm-haystack[all]) (4.22.0)\n",
            "Requirement already satisfied: sentence-transformers>=2.2.0 in /usr/local/lib/python3.10/dist-packages (from farm-haystack[all]) (3.0.1)\n",
            "Requirement already satisfied: seqeval in /usr/local/lib/python3.10/dist-packages (from farm-haystack[all]) (1.2.2)\n",
            "Requirement already satisfied: sqlalchemy-utils in /usr/local/lib/python3.10/dist-packages (from farm-haystack[all]) (0.41.2)\n",
            "Requirement already satisfied: sqlalchemy<2,>=1.4.2 in /usr/local/lib/python3.10/dist-packages (from farm-haystack[all]) (1.4.52)\n",
            "Requirement already satisfied: tika in /usr/local/lib/python3.10/dist-packages (from farm-haystack[all]) (2.6.0)\n",
            "Requirement already satisfied: weaviate-client>2 in /usr/local/lib/python3.10/dist-packages (from farm-haystack[all]) (3.26.5)\n",
            "Requirement already satisfied: pyyaml<7.0,>=6.0 in /usr/local/lib/python3.10/dist-packages (from prompthub-py==4.0.0->farm-haystack[all]) (6.0.1)\n",
            "Requirement already satisfied: filelock in /usr/local/lib/python3.10/dist-packages (from transformers==4.39.3->farm-haystack[all]) (3.15.4)\n",
            "Requirement already satisfied: numpy>=1.17 in /usr/local/lib/python3.10/dist-packages (from transformers==4.39.3->farm-haystack[all]) (1.25.2)\n",
            "Requirement already satisfied: packaging>=20.0 in /usr/local/lib/python3.10/dist-packages (from transformers==4.39.3->farm-haystack[all]) (24.1)\n",
            "Requirement already satisfied: regex!=2019.12.17 in /usr/local/lib/python3.10/dist-packages (from transformers==4.39.3->farm-haystack[all]) (2024.5.15)\n",
            "Requirement already satisfied: tokenizers<0.19,>=0.14 in /usr/local/lib/python3.10/dist-packages (from transformers==4.39.3->farm-haystack[all]) (0.15.2)\n",
            "Requirement already satisfied: safetensors>=0.4.1 in /usr/local/lib/python3.10/dist-packages (from transformers==4.39.3->farm-haystack[all]) (0.4.3)\n",
            "Requirement already satisfied: torch in /usr/local/lib/python3.10/dist-packages (from transformers[sentencepiece,torch]==4.39.3; extra == \"all\"->farm-haystack[all]) (2.3.0+cu121)\n",
            "Requirement already satisfied: accelerate>=0.21.0 in /usr/local/lib/python3.10/dist-packages (from transformers[sentencepiece,torch]==4.39.3; extra == \"all\"->farm-haystack[all]) (0.32.1)\n",
            "Requirement already satisfied: sentencepiece!=0.1.92,>=0.1.91 in /usr/local/lib/python3.10/dist-packages (from transformers[sentencepiece,torch]==4.39.3; extra == \"all\"->farm-haystack[all]) (0.1.99)\n",
            "Requirement already satisfied: protobuf in /usr/local/lib/python3.10/dist-packages (from transformers[sentencepiece,torch]==4.39.3; extra == \"all\"->farm-haystack[all]) (3.20.3)\n",
            "Requirement already satisfied: azure-core>=1.23.0 in /usr/local/lib/python3.10/dist-packages (from azure-ai-formrecognizer>=3.2.0b2->farm-haystack[all]) (1.30.2)\n",
            "Requirement already satisfied: msrest>=0.6.21 in /usr/local/lib/python3.10/dist-packages (from azure-ai-formrecognizer>=3.2.0b2->farm-haystack[all]) (0.7.1)\n",
            "Requirement already satisfied: azure-common>=1.1 in /usr/local/lib/python3.10/dist-packages (from azure-ai-formrecognizer>=3.2.0b2->farm-haystack[all]) (1.1.28)\n",
            "Requirement already satisfied: typing-extensions>=4.0.1 in /usr/local/lib/python3.10/dist-packages (from azure-ai-formrecognizer>=3.2.0b2->farm-haystack[all]) (4.12.2)\n",
            "Requirement already satisfied: botocore<1.35.0,>=1.34.141 in /usr/local/lib/python3.10/dist-packages (from boto3>=1.28.57->farm-haystack[all]) (1.34.141)\n",
            "Requirement already satisfied: jmespath<2.0.0,>=0.7.1 in /usr/local/lib/python3.10/dist-packages (from boto3>=1.28.57->farm-haystack[all]) (1.0.1)\n",
            "Requirement already satisfied: s3transfer<0.11.0,>=0.10.0 in /usr/local/lib/python3.10/dist-packages (from boto3>=1.28.57->farm-haystack[all]) (0.10.2)\n",
            "Requirement already satisfied: urllib3<2,>=1.21.1 in /usr/local/lib/python3.10/dist-packages (from elastic-transport<8->farm-haystack[all]) (1.26.19)\n",
            "Requirement already satisfied: six>=1.12 in /usr/local/lib/python3.10/dist-packages (from elastic-transport<8->farm-haystack[all]) (1.16.0)\n",
            "Requirement already satisfied: certifi in /usr/local/lib/python3.10/dist-packages (from elastic-transport<8->farm-haystack[all]) (2024.6.2)\n",
            "Requirement already satisfied: fsspec>=2023.5.0 in /usr/local/lib/python3.10/dist-packages (from huggingface-hub>=0.5.0->farm-haystack[all]) (2023.6.0)\n",
            "Requirement already satisfied: triton<3,>=2.0.0 in /usr/local/lib/python3.10/dist-packages (from openai-whisper>=20231106->farm-haystack[all]) (2.3.0)\n",
            "Requirement already satisfied: numba in /usr/local/lib/python3.10/dist-packages (from openai-whisper>=20231106->farm-haystack[all]) (0.58.1)\n",
            "Requirement already satisfied: python-dateutil in /usr/local/lib/python3.10/dist-packages (from opensearch-py>=2->farm-haystack[all]) (2.8.2)\n",
            "Requirement already satisfied: loguru>=0.5.0 in /usr/local/lib/python3.10/dist-packages (from pinecone-client<3,>=2.0.11->farm-haystack[all]) (0.7.2)\n",
            "Requirement already satisfied: dnspython>=2.0.0 in /usr/local/lib/python3.10/dist-packages (from pinecone-client<3,>=2.0.11->farm-haystack[all]) (2.6.1)\n",
            "Requirement already satisfied: jarowinkler<2.0.0,>=1.2.0 in /usr/local/lib/python3.10/dist-packages (from rapidfuzz<2.8.0,>=2.0.15->farm-haystack[all]) (1.2.3)\n",
            "Requirement already satisfied: charset-normalizer<4,>=2 in /usr/local/lib/python3.10/dist-packages (from requests->farm-haystack[all]) (3.3.2)\n",
            "Requirement already satisfied: idna<4,>=2.5 in /usr/local/lib/python3.10/dist-packages (from requests->farm-haystack[all]) (3.7)\n",
            "Requirement already satisfied: appdirs>=1.4.4 in /usr/local/lib/python3.10/dist-packages (from requests-cache<1.0.0->farm-haystack[all]) (1.4.4)\n",
            "Requirement already satisfied: attrs>=21.2 in /usr/local/lib/python3.10/dist-packages (from requests-cache<1.0.0->farm-haystack[all]) (23.2.0)\n",
            "Requirement already satisfied: cattrs>=22.2 in /usr/local/lib/python3.10/dist-packages (from requests-cache<1.0.0->farm-haystack[all]) (23.2.3)\n",
            "Requirement already satisfied: url-normalize>=1.4 in /usr/local/lib/python3.10/dist-packages (from requests-cache<1.0.0->farm-haystack[all]) (1.4.3)\n",
            "Requirement already satisfied: joblib>=1.2.0 in /usr/local/lib/python3.10/dist-packages (from scikit-learn>=1.3.0->farm-haystack[all]) (1.4.2)\n",
            "Requirement already satisfied: threadpoolctl>=3.1.0 in /usr/local/lib/python3.10/dist-packages (from scikit-learn>=1.3.0->farm-haystack[all]) (3.5.0)\n",
            "Requirement already satisfied: trio~=0.17 in /usr/local/lib/python3.10/dist-packages (from selenium>=4.11.0->farm-haystack[all]) (0.26.0)\n",
            "Requirement already satisfied: trio-websocket~=0.9 in /usr/local/lib/python3.10/dist-packages (from selenium>=4.11.0->farm-haystack[all]) (0.11.1)\n",
            "Requirement already satisfied: websocket-client>=1.8.0 in /usr/local/lib/python3.10/dist-packages (from selenium>=4.11.0->farm-haystack[all]) (1.8.0)\n",
            "Requirement already satisfied: greenlet!=0.4.17 in /usr/local/lib/python3.10/dist-packages (from sqlalchemy<2,>=1.4.2->farm-haystack[all]) (3.0.3)\n",
            "Requirement already satisfied: validators<1.0.0,>=0.21.2 in /usr/local/lib/python3.10/dist-packages (from weaviate-client>2->farm-haystack[all]) (0.31.0)\n",
            "Requirement already satisfied: authlib<2.0.0,>=1.2.1 in /usr/local/lib/python3.10/dist-packages (from weaviate-client>2->farm-haystack[all]) (1.3.1)\n",
            "Requirement already satisfied: soupsieve>1.2 in /usr/local/lib/python3.10/dist-packages (from beautifulsoup4->farm-haystack[all]) (2.5)\n",
            "Requirement already satisfied: anyio in /usr/local/lib/python3.10/dist-packages (from httpx->farm-haystack[all]) (3.7.1)\n",
            "Requirement already satisfied: httpcore==1.* in /usr/local/lib/python3.10/dist-packages (from httpx->farm-haystack[all]) (1.0.5)\n",
            "Requirement already satisfied: sniffio in /usr/local/lib/python3.10/dist-packages (from httpx->farm-haystack[all]) (1.3.1)\n",
            "Requirement already satisfied: h11<0.15,>=0.13 in /usr/local/lib/python3.10/dist-packages (from httpcore==1.*->httpx->farm-haystack[all]) (0.14.0)\n",
            "Requirement already satisfied: jsonschema-specifications>=2023.03.6 in /usr/local/lib/python3.10/dist-packages (from jsonschema->farm-haystack[all]) (2023.12.1)\n",
            "Requirement already satisfied: referencing>=0.28.4 in /usr/local/lib/python3.10/dist-packages (from jsonschema->farm-haystack[all]) (0.35.1)\n",
            "Requirement already satisfied: rpds-py>=0.7.1 in /usr/local/lib/python3.10/dist-packages (from jsonschema->farm-haystack[all]) (0.18.1)\n",
            "Requirement already satisfied: Flask<4 in /usr/local/lib/python3.10/dist-packages (from mlflow->farm-haystack[all]) (2.2.5)\n",
            "Requirement already satisfied: alembic!=1.10.0,<2 in /usr/local/lib/python3.10/dist-packages (from mlflow->farm-haystack[all]) (1.13.2)\n",
            "Requirement already satisfied: cachetools<6,>=5.0.0 in /usr/local/lib/python3.10/dist-packages (from mlflow->farm-haystack[all]) (5.3.3)\n",
            "Requirement already satisfied: click<9,>=7.0 in /usr/local/lib/python3.10/dist-packages (from mlflow->farm-haystack[all]) (8.1.7)\n",
            "Requirement already satisfied: cloudpickle<4 in /usr/local/lib/python3.10/dist-packages (from mlflow->farm-haystack[all]) (2.2.1)\n",
            "Requirement already satisfied: docker<8,>=4.0.0 in /usr/local/lib/python3.10/dist-packages (from mlflow->farm-haystack[all]) (7.1.0)\n",
            "Requirement already satisfied: entrypoints<1 in /usr/local/lib/python3.10/dist-packages (from mlflow->farm-haystack[all]) (0.4)\n",
            "Requirement already satisfied: gitpython<4,>=3.1.9 in /usr/local/lib/python3.10/dist-packages (from mlflow->farm-haystack[all]) (3.1.43)\n",
            "Requirement already satisfied: graphene<4 in /usr/local/lib/python3.10/dist-packages (from mlflow->farm-haystack[all]) (3.3)\n",
            "Requirement already satisfied: importlib-metadata!=4.7.0,<8,>=3.7.0 in /usr/local/lib/python3.10/dist-packages (from mlflow->farm-haystack[all]) (7.1.0)\n",
            "Requirement already satisfied: matplotlib<4 in /usr/local/lib/python3.10/dist-packages (from mlflow->farm-haystack[all]) (3.7.1)\n",
            "Requirement already satisfied: opentelemetry-api<3,>=1.9.0 in /usr/local/lib/python3.10/dist-packages (from mlflow->farm-haystack[all]) (1.25.0)\n",
            "Requirement already satisfied: opentelemetry-sdk<3,>=1.9.0 in /usr/local/lib/python3.10/dist-packages (from mlflow->farm-haystack[all]) (1.25.0)\n",
            "Requirement already satisfied: pyarrow<16,>=4.0.0 in /usr/local/lib/python3.10/dist-packages (from mlflow->farm-haystack[all]) (14.0.2)\n",
            "Requirement already satisfied: pytz<2025 in /usr/local/lib/python3.10/dist-packages (from mlflow->farm-haystack[all]) (2023.4)\n",
            "Requirement already satisfied: querystring-parser<2 in /usr/local/lib/python3.10/dist-packages (from mlflow->farm-haystack[all]) (1.2.4)\n",
            "Requirement already satisfied: sqlparse<1,>=0.4.0 in /usr/local/lib/python3.10/dist-packages (from mlflow->farm-haystack[all]) (0.5.0)\n",
            "Requirement already satisfied: Jinja2<4,>=2.11 in /usr/local/lib/python3.10/dist-packages (from mlflow->farm-haystack[all]) (3.1.4)\n",
            "Requirement already satisfied: gunicorn<23 in /usr/local/lib/python3.10/dist-packages (from mlflow->farm-haystack[all]) (22.0.0)\n",
            "Requirement already satisfied: tzdata>=2022.1 in /usr/local/lib/python3.10/dist-packages (from pandas->farm-haystack[all]) (2024.1)\n",
            "Requirement already satisfied: monotonic>=1.5 in /usr/local/lib/python3.10/dist-packages (from posthog->farm-haystack[all]) (1.6)\n",
            "Requirement already satisfied: backoff>=1.10.0 in /usr/local/lib/python3.10/dist-packages (from posthog->farm-haystack[all]) (2.2.1)\n",
            "Requirement already satisfied: lxml>=3.1.0 in /usr/local/lib/python3.10/dist-packages (from python-docx->farm-haystack[all]) (4.9.4)\n",
            "Requirement already satisfied: XlsxWriter>=0.5.7 in /usr/local/lib/python3.10/dist-packages (from python-pptx->farm-haystack[all]) (3.2.0)\n",
            "Requirement already satisfied: inflect in /usr/local/lib/python3.10/dist-packages (from quantulum3->farm-haystack[all]) (7.0.0)\n",
            "Requirement already satisfied: num2words in /usr/local/lib/python3.10/dist-packages (from quantulum3->farm-haystack[all]) (0.5.13)\n",
            "Requirement already satisfied: setuptools in /usr/local/lib/python3.10/dist-packages (from tika->farm-haystack[all]) (67.7.2)\n",
            "Requirement already satisfied: psutil in /usr/local/lib/python3.10/dist-packages (from accelerate>=0.21.0->transformers[sentencepiece,torch]==4.39.3; extra == \"all\"->farm-haystack[all]) (5.9.5)\n",
            "Requirement already satisfied: Mako in /usr/local/lib/python3.10/dist-packages (from alembic!=1.10.0,<2->mlflow->farm-haystack[all]) (1.3.5)\n",
            "Requirement already satisfied: cryptography in /usr/local/lib/python3.10/dist-packages (from authlib<2.0.0,>=1.2.1->weaviate-client>2->farm-haystack[all]) (42.0.8)\n",
            "Requirement already satisfied: exceptiongroup>=1.1.1 in /usr/local/lib/python3.10/dist-packages (from cattrs>=22.2->requests-cache<1.0.0->farm-haystack[all]) (1.2.1)\n",
            "Requirement already satisfied: Werkzeug>=2.2.2 in /usr/local/lib/python3.10/dist-packages (from Flask<4->mlflow->farm-haystack[all]) (3.0.3)\n",
            "Requirement already satisfied: itsdangerous>=2.0 in /usr/local/lib/python3.10/dist-packages (from Flask<4->mlflow->farm-haystack[all]) (2.2.0)\n",
            "Requirement already satisfied: gitdb<5,>=4.0.1 in /usr/local/lib/python3.10/dist-packages (from gitpython<4,>=3.1.9->mlflow->farm-haystack[all]) (4.0.11)\n",
            "Requirement already satisfied: graphql-core<3.3,>=3.1 in /usr/local/lib/python3.10/dist-packages (from graphene<4->mlflow->farm-haystack[all]) (3.2.3)\n",
            "Requirement already satisfied: graphql-relay<3.3,>=3.1 in /usr/local/lib/python3.10/dist-packages (from graphene<4->mlflow->farm-haystack[all]) (3.2.0)\n",
            "Requirement already satisfied: aniso8601<10,>=8 in /usr/local/lib/python3.10/dist-packages (from graphene<4->mlflow->farm-haystack[all]) (9.0.1)\n",
            "Requirement already satisfied: zipp>=0.5 in /usr/local/lib/python3.10/dist-packages (from importlib-metadata!=4.7.0,<8,>=3.7.0->mlflow->farm-haystack[all]) (3.19.2)\n",
            "Requirement already satisfied: MarkupSafe>=2.0 in /usr/local/lib/python3.10/dist-packages (from Jinja2<4,>=2.11->mlflow->farm-haystack[all]) (2.1.5)\n",
            "Requirement already satisfied: contourpy>=1.0.1 in /usr/local/lib/python3.10/dist-packages (from matplotlib<4->mlflow->farm-haystack[all]) (1.2.1)\n",
            "Requirement already satisfied: cycler>=0.10 in /usr/local/lib/python3.10/dist-packages (from matplotlib<4->mlflow->farm-haystack[all]) (0.12.1)\n",
            "Requirement already satisfied: fonttools>=4.22.0 in /usr/local/lib/python3.10/dist-packages (from matplotlib<4->mlflow->farm-haystack[all]) (4.53.0)\n",
            "Requirement already satisfied: kiwisolver>=1.0.1 in /usr/local/lib/python3.10/dist-packages (from matplotlib<4->mlflow->farm-haystack[all]) (1.4.5)\n",
            "Requirement already satisfied: pyparsing>=2.3.1 in /usr/local/lib/python3.10/dist-packages (from matplotlib<4->mlflow->farm-haystack[all]) (3.1.2)\n",
            "Requirement already satisfied: isodate>=0.6.0 in /usr/local/lib/python3.10/dist-packages (from msrest>=0.6.21->azure-ai-formrecognizer>=3.2.0b2->farm-haystack[all]) (0.6.1)\n",
            "Requirement already satisfied: requests-oauthlib>=0.5.0 in /usr/local/lib/python3.10/dist-packages (from msrest>=0.6.21->azure-ai-formrecognizer>=3.2.0b2->farm-haystack[all]) (1.3.1)\n",
            "Requirement already satisfied: deprecated>=1.2.6 in /usr/local/lib/python3.10/dist-packages (from opentelemetry-api<3,>=1.9.0->mlflow->farm-haystack[all]) (1.2.14)\n",
            "Requirement already satisfied: opentelemetry-semantic-conventions==0.46b0 in /usr/local/lib/python3.10/dist-packages (from opentelemetry-sdk<3,>=1.9.0->mlflow->farm-haystack[all]) (0.46b0)\n",
            "Requirement already satisfied: sympy in /usr/local/lib/python3.10/dist-packages (from torch->transformers[sentencepiece,torch]==4.39.3; extra == \"all\"->farm-haystack[all]) (1.12.1)\n",
            "Requirement already satisfied: nvidia-cuda-nvrtc-cu12==12.1.105 in /usr/local/lib/python3.10/dist-packages (from torch->transformers[sentencepiece,torch]==4.39.3; extra == \"all\"->farm-haystack[all]) (12.1.105)\n",
            "Requirement already satisfied: nvidia-cuda-runtime-cu12==12.1.105 in /usr/local/lib/python3.10/dist-packages (from torch->transformers[sentencepiece,torch]==4.39.3; extra == \"all\"->farm-haystack[all]) (12.1.105)\n",
            "Requirement already satisfied: nvidia-cuda-cupti-cu12==12.1.105 in /usr/local/lib/python3.10/dist-packages (from torch->transformers[sentencepiece,torch]==4.39.3; extra == \"all\"->farm-haystack[all]) (12.1.105)\n",
            "Requirement already satisfied: nvidia-cudnn-cu12==8.9.2.26 in /usr/local/lib/python3.10/dist-packages (from torch->transformers[sentencepiece,torch]==4.39.3; extra == \"all\"->farm-haystack[all]) (8.9.2.26)\n",
            "Requirement already satisfied: nvidia-cublas-cu12==12.1.3.1 in /usr/local/lib/python3.10/dist-packages (from torch->transformers[sentencepiece,torch]==4.39.3; extra == \"all\"->farm-haystack[all]) (12.1.3.1)\n",
            "Requirement already satisfied: nvidia-cufft-cu12==11.0.2.54 in /usr/local/lib/python3.10/dist-packages (from torch->transformers[sentencepiece,torch]==4.39.3; extra == \"all\"->farm-haystack[all]) (11.0.2.54)\n",
            "Requirement already satisfied: nvidia-curand-cu12==10.3.2.106 in /usr/local/lib/python3.10/dist-packages (from torch->transformers[sentencepiece,torch]==4.39.3; extra == \"all\"->farm-haystack[all]) (10.3.2.106)\n",
            "Requirement already satisfied: nvidia-cusolver-cu12==11.4.5.107 in /usr/local/lib/python3.10/dist-packages (from torch->transformers[sentencepiece,torch]==4.39.3; extra == \"all\"->farm-haystack[all]) (11.4.5.107)\n",
            "Requirement already satisfied: nvidia-cusparse-cu12==12.1.0.106 in /usr/local/lib/python3.10/dist-packages (from torch->transformers[sentencepiece,torch]==4.39.3; extra == \"all\"->farm-haystack[all]) (12.1.0.106)\n",
            "Requirement already satisfied: nvidia-nccl-cu12==2.20.5 in /usr/local/lib/python3.10/dist-packages (from torch->transformers[sentencepiece,torch]==4.39.3; extra == \"all\"->farm-haystack[all]) (2.20.5)\n",
            "Requirement already satisfied: nvidia-nvtx-cu12==12.1.105 in /usr/local/lib/python3.10/dist-packages (from torch->transformers[sentencepiece,torch]==4.39.3; extra == \"all\"->farm-haystack[all]) (12.1.105)\n",
            "Requirement already satisfied: nvidia-nvjitlink-cu12 in /usr/local/lib/python3.10/dist-packages (from nvidia-cusolver-cu12==11.4.5.107->torch->transformers[sentencepiece,torch]==4.39.3; extra == \"all\"->farm-haystack[all]) (12.5.82)\n",
            "Requirement already satisfied: sortedcontainers in /usr/local/lib/python3.10/dist-packages (from trio~=0.17->selenium>=4.11.0->farm-haystack[all]) (2.4.0)\n",
            "Requirement already satisfied: outcome in /usr/local/lib/python3.10/dist-packages (from trio~=0.17->selenium>=4.11.0->farm-haystack[all]) (1.3.0.post0)\n",
            "Requirement already satisfied: wsproto>=0.14 in /usr/local/lib/python3.10/dist-packages (from trio-websocket~=0.9->selenium>=4.11.0->farm-haystack[all]) (1.2.0)\n",
            "Requirement already satisfied: PySocks!=1.5.7,<2.0,>=1.5.6 in /usr/local/lib/python3.10/dist-packages (from urllib3[socks]<3,>=1.26->selenium>=4.11.0->farm-haystack[all]) (1.7.1)\n",
            "Requirement already satisfied: docopt>=0.6.2 in /usr/local/lib/python3.10/dist-packages (from num2words->quantulum3->farm-haystack[all]) (0.6.2)\n",
            "Requirement already satisfied: llvmlite<0.42,>=0.41.0dev0 in /usr/local/lib/python3.10/dist-packages (from numba->openai-whisper>=20231106->farm-haystack[all]) (0.41.1)\n",
            "Requirement already satisfied: wrapt<2,>=1.10 in /usr/local/lib/python3.10/dist-packages (from deprecated>=1.2.6->opentelemetry-api<3,>=1.9.0->mlflow->farm-haystack[all]) (1.14.1)\n",
            "Requirement already satisfied: smmap<6,>=3.0.1 in /usr/local/lib/python3.10/dist-packages (from gitdb<5,>=4.0.1->gitpython<4,>=3.1.9->mlflow->farm-haystack[all]) (5.0.1)\n",
            "Requirement already satisfied: oauthlib>=3.0.0 in /usr/local/lib/python3.10/dist-packages (from requests-oauthlib>=0.5.0->msrest>=0.6.21->azure-ai-formrecognizer>=3.2.0b2->farm-haystack[all]) (3.2.2)\n",
            "Requirement already satisfied: cffi>=1.12 in /usr/local/lib/python3.10/dist-packages (from cryptography->authlib<2.0.0,>=1.2.1->weaviate-client>2->farm-haystack[all]) (1.16.0)\n",
            "Requirement already satisfied: mpmath<1.4.0,>=1.1.0 in /usr/local/lib/python3.10/dist-packages (from sympy->torch->transformers[sentencepiece,torch]==4.39.3; extra == \"all\"->farm-haystack[all]) (1.3.0)\n",
            "Requirement already satisfied: pycparser in /usr/local/lib/python3.10/dist-packages (from cffi>=1.12->cryptography->authlib<2.0.0,>=1.2.1->weaviate-client>2->farm-haystack[all]) (2.22)\n",
            "\u001b[33mWARNING: Running pip as the 'root' user can result in broken permissions and conflicting behaviour with the system package manager, possibly rendering your system unusable.It is recommended to use a virtual environment instead: https://pip.pypa.io/warnings/venv. Use the --root-user-action option if you know what you are doing and want to suppress this warning.\u001b[0m\u001b[33m\n",
            "\u001b[0m"
          ]
        }
      ]
    },
    {
      "cell_type": "code",
      "source": [
        "from haystack.nodes import FARMReader\n",
        "\n",
        "# antrenarea modelului\n",
        "reader = FARMReader(model_name_or_path=\"deepset/xlm-roberta-base-squad2\", use_gpu=True)\n",
        "reader.train(data_dir=\"training_data\", train_filename=\"train.json\", use_gpu=True, n_epochs=1, save_dir=\"fine_tuned_model\")\n"
      ],
      "metadata": {
        "colab": {
          "base_uri": "https://localhost:8080/"
        },
        "id": "AbfhTwOJJUlD",
        "outputId": "f7d5c495-c3a4-48f8-932a-c1c0b47d1b43"
      },
      "execution_count": null,
      "outputs": [
        {
          "output_type": "stream",
          "name": "stderr",
          "text": [
            "/usr/local/lib/python3.10/dist-packages/huggingface_hub/file_download.py:1132: FutureWarning: `resume_download` is deprecated and will be removed in version 1.0.0. Downloads always resume when possible. If you want to force a new download, use `force_download=True`.\n",
            "  warnings.warn(\n",
            "Preprocessing dataset: 100%|██████████| 1/1 [00:00<00:00,  2.64 Dicts/s]\n",
            "Train epoch 0/0 (Cur. train loss: 0.6284): 100%|██████████| 45/45 [00:23<00:00,  1.90it/s]\n"
          ]
        }
      ]
    },
    {
      "cell_type": "code",
      "source": [
        "# incarcarea modelului antrenat\n",
        "reader = FARMReader(model_name_or_path=\"fine_tuned_model\", use_gpu=True)\n"
      ],
      "metadata": {
        "colab": {
          "base_uri": "https://localhost:8080/"
        },
        "id": "waKp_9NhNTcY",
        "outputId": "1c2ae5b6-1c1a-4939-d407-f2a11dc1f1b1"
      },
      "execution_count": null,
      "outputs": [
        {
          "output_type": "stream",
          "name": "stderr",
          "text": [
            "WARNING:haystack.modeling.model.prediction_head:Some unused parameters are passed to the QuestionAnsweringHead. Might not be a problem. Params: {\"training\": false, \"num_labels\": 2, \"ph_output_type\": \"per_token_squad\", \"model_type\": \"span_classification\", \"label_tensor_name\": \"question_answering_label_ids\", \"label_list\": [\"start_token\", \"end_token\"], \"metric\": \"squad\", \"name\": \"QuestionAnsweringHead\"}\n"
          ]
        }
      ]
    },
    {
      "cell_type": "code",
      "source": [
        "!apt-get install -y poppler-utils\n"
      ],
      "metadata": {
        "colab": {
          "base_uri": "https://localhost:8080/"
        },
        "id": "NmuvEjFVNw93",
        "outputId": "d5dbc6c5-e985-4909-9f3f-7a036ff95771"
      },
      "execution_count": null,
      "outputs": [
        {
          "output_type": "stream",
          "name": "stdout",
          "text": [
            "Reading package lists... Done\n",
            "Building dependency tree... Done\n",
            "Reading state information... Done\n",
            "poppler-utils is already the newest version (22.02.0-2ubuntu0.4).\n",
            "0 upgraded, 0 newly installed, 0 to remove and 45 not upgraded.\n"
          ]
        }
      ]
    },
    {
      "cell_type": "code",
      "source": [
        "# configurarea pipeline-ului\n",
        "\n",
        "from haystack.pipelines import ExtractiveQAPipeline\n",
        "from haystack.nodes import TfidfRetriever\n",
        "from haystack.document_stores import InMemoryDocumentStore\n",
        "from haystack.utils import convert_files_to_docs\n",
        "\n",
        "# Inițializarea document store și retriever\n",
        "document_store = InMemoryDocumentStore()\n",
        "docs = convert_files_to_docs(dir_path=\"/content/drive/My Drive/metodologii\")\n",
        "document_store.write_documents(docs)\n",
        "\n",
        "retriever = TfidfRetriever(document_store=document_store)\n",
        "pipe = ExtractiveQAPipeline(reader, retriever)\n"
      ],
      "metadata": {
        "id": "V3FvKRETNYqH",
        "colab": {
          "base_uri": "https://localhost:8080/"
        },
        "outputId": "4a48300d-3b00-49f3-a6be-bdfd64a97242"
      },
      "execution_count": null,
      "outputs": [
        {
          "output_type": "stream",
          "name": "stderr",
          "text": [
            "WARNING:haystack.utils.preprocessing:Skipped file /content/drive/My Drive/metodologii/fine_tuned_model/language_model.bin as type .bin is not supported here. See haystack.file_converter for support of more file types\n",
            "WARNING:haystack.utils.preprocessing:Skipped file /content/drive/My Drive/metodologii/fine_tuned_model/language_model_config.json as type .json is not supported here. See haystack.file_converter for support of more file types\n",
            "WARNING:haystack.utils.preprocessing:Skipped file /content/drive/My Drive/metodologii/fine_tuned_model/prediction_head_0.bin as type .bin is not supported here. See haystack.file_converter for support of more file types\n",
            "WARNING:haystack.utils.preprocessing:Skipped file /content/drive/My Drive/metodologii/fine_tuned_model/prediction_head_0_config.json as type .json is not supported here. See haystack.file_converter for support of more file types\n",
            "WARNING:haystack.utils.preprocessing:Skipped file /content/drive/My Drive/metodologii/fine_tuned_model/tokenizer_config.json as type .json is not supported here. See haystack.file_converter for support of more file types\n",
            "WARNING:haystack.utils.preprocessing:Skipped file /content/drive/My Drive/metodologii/fine_tuned_model/special_tokens_map.json as type .json is not supported here. See haystack.file_converter for support of more file types\n",
            "WARNING:haystack.utils.preprocessing:Skipped file /content/drive/My Drive/metodologii/fine_tuned_model/sentencepiece.bpe.model as type .model is not supported here. See haystack.file_converter for support of more file types\n",
            "WARNING:haystack.utils.preprocessing:Skipped file /content/drive/My Drive/metodologii/fine_tuned_model/tokenizer.json as type .json is not supported here. See haystack.file_converter for support of more file types\n",
            "WARNING:haystack.utils.preprocessing:Skipped file /content/drive/My Drive/metodologii/fine_tuned_model/processor_config.json as type .json is not supported here. See haystack.file_converter for support of more file types\n"
          ]
        }
      ]
    },
    {
      "cell_type": "code",
      "source": [
        "#filtrarea raspunsurilor si testarea modelului\n",
        "\n",
        "def filter_and_preprocess_answers(answers, threshold=0.1):\n",
        "    unique_answers = {}\n",
        "\n",
        "    for answer in answers:\n",
        "        if answer.score >= threshold:\n",
        "            # curatarea raspunsului si eliminarea informatiilor suplimentare\n",
        "            cleaned_answer = answer.answer.split('\\n')[0].strip()\n",
        "            if cleaned_answer not in unique_answers:\n",
        "                unique_answers[cleaned_answer] = answer.score\n",
        "            else:\n",
        "                # pastrarea scorului cel mai mare pentru fiecare raspuns\n",
        "                unique_answers[cleaned_answer] = max(unique_answers[cleaned_answer], answer.score)\n",
        "\n",
        "    # sortarea raspunsurilor după scor\n",
        "    sorted_answers = sorted(unique_answers.items(), key=lambda x: x[1], reverse=True)\n",
        "\n",
        "    return sorted_answers\n",
        "\n",
        "questions = [\n",
        "    \"Care este taxa de scolarizare pentru anul 1, masterat, la Facultatea de Matematica si Informatica?\",\n",
        "]\n",
        "\n",
        "for question in questions:\n",
        "    prediction = pipe.run(query=question, params={\"Retriever\": {\"top_k\": 5}, \"Reader\": {\"top_k\": 3}})\n",
        "    answers = prediction['answers']\n",
        "\n",
        "    filtered_answers = filter_and_preprocess_answers(answers, threshold=0.1)\n",
        "\n",
        "    print(f\"Question: {question}\")\n",
        "    if filtered_answers:\n",
        "        # afisarea celui mai relevant raspuns\n",
        "        best_answer = filtered_answers[0]\n",
        "        print(f\"Answer: {best_answer[0]} (Score: {best_answer[1]})\")\n",
        "    else:\n",
        "        print(\"No relevant answer found.\")\n"
      ],
      "metadata": {
        "colab": {
          "base_uri": "https://localhost:8080/"
        },
        "id": "oMaa7w-3OHj3",
        "outputId": "f4534581-e698-4b73-91be-5bf4d38db6fa"
      },
      "execution_count": null,
      "outputs": [
        {
          "output_type": "stream",
          "name": "stderr",
          "text": [
            "Inferencing Samples: 100%|██████████| 3/3 [00:01<00:00,  1.59 Batches/s]"
          ]
        },
        {
          "output_type": "stream",
          "name": "stdout",
          "text": [
            "Question: Care este taxa de scolarizare pentru anul 1, masterat, la Facultatea de Matematica si Informatica?\n",
            "Answer: 4000 lei (Score: 0.42352354526519775)\n"
          ]
        },
        {
          "output_type": "stream",
          "name": "stderr",
          "text": [
            "\n"
          ]
        }
      ]
    },
    {
      "cell_type": "code",
      "source": [
        "# salvarea modelului\n",
        "model_path = '/content/drive/My Drive/fine_tuned_model'\n",
        "\n",
        "# metoda de salvare pentru FARMReader\n",
        "reader.save(model_path)"
      ],
      "metadata": {
        "id": "axiNgl42lDS7"
      },
      "execution_count": null,
      "outputs": []
    },
    {
      "cell_type": "markdown",
      "source": [],
      "metadata": {
        "id": "a6Wr-oFSEobl"
      }
    },
    {
      "cell_type": "code",
      "source": [
        "from google.colab import drive\n",
        "drive.mount('/content/drive')"
      ],
      "metadata": {
        "colab": {
          "base_uri": "https://localhost:8080/"
        },
        "id": "U3Khw0i31wrq",
        "outputId": "1fa9a94c-da2b-463a-de07-18d1246ac674"
      },
      "execution_count": null,
      "outputs": [
        {
          "output_type": "stream",
          "name": "stdout",
          "text": [
            "Mounted at /content/drive\n"
          ]
        }
      ]
    },
    {
      "cell_type": "code",
      "source": [
        "import shutil\n",
        "model_path='/content/drive/My Drive/metodologii/fine_tuned_model'\n",
        "shutil.make_archive('/content/fine_tuned_model', 'zip', model_path)"
      ],
      "metadata": {
        "colab": {
          "base_uri": "https://localhost:8080/",
          "height": 36
        },
        "id": "l_WEVkpk2Dax",
        "outputId": "f4fbe875-b78e-447e-a346-d910a1d59826"
      },
      "execution_count": null,
      "outputs": [
        {
          "output_type": "execute_result",
          "data": {
            "text/plain": [
              "'/content/fine_tuned_model.zip'"
            ],
            "application/vnd.google.colaboratory.intrinsic+json": {
              "type": "string"
            }
          },
          "metadata": {},
          "execution_count": 2
        }
      ]
    },
    {
      "cell_type": "code",
      "source": [
        "import os\n",
        "\n",
        "model_path = '/content/drive/My Drive/metodologii/fine_tuned_model'\n",
        "print(os.listdir(model_path))\n"
      ],
      "metadata": {
        "colab": {
          "base_uri": "https://localhost:8080/"
        },
        "id": "kIDO2SIw3E9Y",
        "outputId": "f92bff5c-7fef-45af-fcce-53a324a38b00"
      },
      "execution_count": null,
      "outputs": [
        {
          "output_type": "stream",
          "name": "stdout",
          "text": [
            "['language_model.bin', 'language_model_config.json', 'prediction_head_0.bin', 'prediction_head_0_config.json', 'tokenizer_config.json', 'special_tokens_map.json', 'sentencepiece.bpe.model', 'tokenizer.json', 'processor_config.json']\n"
          ]
        }
      ]
    }
  ]
}